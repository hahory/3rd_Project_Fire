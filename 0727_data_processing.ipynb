{
 "cells": [
  {
   "cell_type": "markdown",
   "metadata": {},
   "source": [
    "산불발생은 1, 산불 미발생은 0로 표기한 2014-2020년 학습용 데이터 만들기"
   ]
  },
  {
   "cell_type": "code",
   "execution_count": 4,
   "metadata": {},
   "outputs": [],
   "source": [
    "import pandas as pd\n",
    "import numpy as np"
   ]
  },
  {
   "cell_type": "code",
   "execution_count": 5,
   "metadata": {},
   "outputs": [],
   "source": [
    "#산림청 제공 산불발생(2012-2021) 자료 불러오기\n",
    "fire_10=pd.read_excel('raw_sanbul_2012_2021.xls')\n",
    "fire_10.columns=['발생일시_년','발생일시_월','발생일시_일','발생일시_시간','발생일시_요일','진화종료시간_년','진화종료시간_월','진화종료시간_일','진화종료시간_시간','발생장소_관서','발생장소_시도','발생장소_시군구',\n",
    "                 '발생장소_읍면','발생장소_동리','발생원인_구분','발생원인_세부원인','발생원인_기타','피해면적_합계']\n",
    "fire_10.drop([0,1], inplace=True)\n",
    "fire_10.reset_index(inplace=True, drop=True)\n",
    "\n",
    "#산불발생(2012-2021) 자료 csv로 저장해두기\n",
    "fire_10.to_csv('0727_fire_10yr.csv', index=False)"
   ]
  },
  {
   "cell_type": "code",
   "execution_count": 6,
   "metadata": {},
   "outputs": [
    {
     "name": "stderr",
     "output_type": "stream",
     "text": [
      "c:\\Anaconda3\\lib\\site-packages\\pandas\\core\\frame.py:3641: SettingWithCopyWarning: \n",
      "A value is trying to be set on a copy of a slice from a DataFrame.\n",
      "Try using .loc[row_indexer,col_indexer] = value instead\n",
      "\n",
      "See the caveats in the documentation: https://pandas.pydata.org/pandas-docs/stable/user_guide/indexing.html#returning-a-view-versus-a-copy\n",
      "  self[k1] = value[k2]\n",
      "C:\\Users\\user\\AppData\\Local\\Temp/ipykernel_13388/1453514660.py:12: SettingWithCopyWarning: \n",
      "A value is trying to be set on a copy of a slice from a DataFrame.\n",
      "Try using .loc[row_indexer,col_indexer] = value instead\n",
      "\n",
      "See the caveats in the documentation: https://pandas.pydata.org/pandas-docs/stable/user_guide/indexing.html#returning-a-view-versus-a-copy\n",
      "  df['발생일시_월']=df['발생일시_월'].str.rjust(2, '0')\n",
      "C:\\Users\\user\\AppData\\Local\\Temp/ipykernel_13388/1453514660.py:13: SettingWithCopyWarning: \n",
      "A value is trying to be set on a copy of a slice from a DataFrame.\n",
      "Try using .loc[row_indexer,col_indexer] = value instead\n",
      "\n",
      "See the caveats in the documentation: https://pandas.pydata.org/pandas-docs/stable/user_guide/indexing.html#returning-a-view-versus-a-copy\n",
      "  df['발생일시_일']=df['발생일시_일'].str.rjust(2, '0')\n",
      "c:\\Anaconda3\\lib\\site-packages\\pandas\\core\\frame.py:4906: SettingWithCopyWarning: \n",
      "A value is trying to be set on a copy of a slice from a DataFrame\n",
      "\n",
      "See the caveats in the documentation: https://pandas.pydata.org/pandas-docs/stable/user_guide/indexing.html#returning-a-view-versus-a-copy\n",
      "  return super().drop(\n"
     ]
    }
   ],
   "source": [
    "df_raw=pd.read_csv('0727_fire_10yr.csv')\n",
    "\n",
    "#2014-2020년 산불정보 중 강원, 경북지역의 산불정보만 가져오기\n",
    "condition=((df_raw.발생일시_년==2014)|(df_raw.발생일시_년==2015)|(df_raw.발생일시_년==2016)\\\n",
    "        |(df_raw.발생일시_년==2017)|(df_raw.발생일시_년==2018)|(df_raw.발생일시_년==2019)\\\n",
    "        |(df_raw.발생일시_년==2020))&((df_raw.발생장소_시도=='강원')|(df_raw.발생장소_시도=='경북'))\n",
    "df=df_raw[condition]\n",
    "\n",
    "#기상인자 파일과 합치기 위해 '관측일'열을 추가\n",
    "#년월일을 6자리로 표현하기 위해 문자열로 형변환 후 월, 일은 두 자리수로 맞춰주고 년+월+일을 한 '관측일'열 생성 & 기존의 년월일 열은 삭제\n",
    "df[['발생일시_년','발생일시_월','발생일시_일']]=df[['발생일시_년','발생일시_월','발생일시_일']].astype('str')\n",
    "df['발생일시_월']=df['발생일시_월'].str.rjust(2, '0')\n",
    "df['발생일시_일']=df['발생일시_일'].str.rjust(2, '0')\n",
    "new_col=df['발생일시_년']+df['발생일시_월']+df['발생일시_일']\n",
    "df.insert(0,'관측일',new_col,True)\n",
    "df.drop(['발생일시_년','발생일시_월','발생일시_일'],axis=1, inplace=True)\n",
    "\n",
    "#강원, 경북 산불발생(2014-2020) 자료 csv로 저장해두기\n",
    "df.to_csv('0727_local_fire_7yr.csv',index=False)"
   ]
  },
  {
   "cell_type": "code",
   "execution_count": 7,
   "metadata": {},
   "outputs": [
    {
     "name": "stderr",
     "output_type": "stream",
     "text": [
      "c:\\Anaconda3\\lib\\site-packages\\IPython\\core\\interactiveshell.py:3444: DtypeWarning: Columns (54) have mixed types.Specify dtype option on import or set low_memory=False.\n",
      "  exec(code_obj, self.user_global_ns, self.user_ns)\n",
      "c:\\Anaconda3\\lib\\site-packages\\IPython\\core\\interactiveshell.py:3444: DtypeWarning: Columns (55) have mixed types.Specify dtype option on import or set low_memory=False.\n",
      "  exec(code_obj, self.user_global_ns, self.user_ns)\n"
     ]
    }
   ],
   "source": [
    "#MDIS에서 제공하는 2014-2020년 기상관측자료 불러와서 병합하기\n",
    "df1=pd.read_csv('C:/3rd_project/dataset_mac_0715/dataset/2014_2020_지상관측통계_일/2014_지상_일.csv',encoding='euc-kr')\n",
    "df2=pd.read_csv('C:/3rd_project/dataset_mac_0715/dataset/2014_2020_지상관측통계_일/2015_지상_일.csv',encoding='euc-kr')\n",
    "df3=pd.read_csv('C:/3rd_project/dataset_mac_0715/dataset/2014_2020_지상관측통계_일/2016_지상_일.csv',encoding='euc-kr')\n",
    "df4=pd.read_csv('C:/3rd_project/dataset_mac_0715/dataset/2014_2020_지상관측통계_일/2017_지상_일.csv',encoding='euc-kr')\n",
    "df5=pd.read_csv('C:/3rd_project/dataset_mac_0715/dataset/2014_2020_지상관측통계_일/2018_지상_일.csv',encoding='euc-kr')\n",
    "df6=pd.read_csv('C:/3rd_project/dataset_mac_0715/dataset/2014_2020_지상관측통계_일/2019_지상_일.csv',encoding='euc-kr')\n",
    "df7=pd.read_csv('C:/3rd_project/dataset_mac_0715/dataset/2014_2020_지상관측통계_일/2020_지상_일.csv',encoding='euc-kr')\n",
    "df = pd.concat([df1, df2, df3,df4,df5,df6,df7])"
   ]
  },
  {
   "cell_type": "code",
   "execution_count": 8,
   "metadata": {},
   "outputs": [],
   "source": [
    "#강원, 경북 지역의 기상정보만 불러오기\n",
    "condition=(df.지점번호==105)|(df.지점번호==100)|(df.지점번호==106)|(df.지점번호==104)|(df.지점번호==93)\\\n",
    "|(df.지점번호==214)|(df.지점번호==90)|(df.지점번호==121)|(df.지점번호==114)|(df.지점번호==211)|(df.지점번호==217)\\\n",
    "|(df.지점번호==95)|(df.지점번호==101)|(df.지점번호==216)|(df.지점번호==212)|(df.지점번호==283)|(df.지점번호==279)\\\n",
    "|(df.지점번호==273)|(df.지점번호==271)|(df.지점번호==137)|(df.지점번호==136)|(df.지점번호==277)|(df.지점번호==272)\\\n",
    "|(df.지점번호==281)|(df.지점번호==115)|(df.지점번호==130)|(df.지점번호==278)|(df.지점번호==276)|(df.지점번호==138)\n",
    "\n",
    "df=df[condition]\n",
    "\n",
    "#산불발생파일과 합치기 위해 각 지점을 강원,경북으로 표기한 '발생장소_시도'열 생성 \n",
    "new_col=np.where(((df.지점번호==105)|(df.지점번호==100)|(df.지점번호==106)|(df.지점번호==104)|(df.지점번호==93)\\\n",
    "|(df.지점번호==214)|(df.지점번호==90)|(df.지점번호==121)|(df.지점번호==114)|(df.지점번호==211)|(df.지점번호==217)\\\n",
    "|(df.지점번호==95)|(df.지점번호==101)|(df.지점번호==216)|(df.지점번호==212)),'강원','경북')\n",
    "\n",
    "df.insert(0,'발생장소_시도',new_col,True)\n",
    "\n",
    "#각 관측소지점에서 측정한 기상인자 값들의 평균으로 '강원', '경북' 큰 단위 지역의 기상인자 값으로 사용할 것임\n",
    "df_group_mean=df.groupby(['발생장소_시도','관측일']).mean()\n",
    "df_group_mean.reset_index(inplace=True)\n",
    "df_group_mean.drop('지점번호',axis=1,inplace=True)\n",
    "\n",
    "#강원, 경북 기상관측(2014-2020) 자료 csv로 저장해두기\n",
    "df_group_mean.to_csv('0727_local_weather_7yr.csv',index=False)"
   ]
  },
  {
   "cell_type": "code",
   "execution_count": 9,
   "metadata": {},
   "outputs": [],
   "source": [
    "#강원, 경북 산불자료와 기상관측 자료 병합\n",
    "df1=pd.read_csv('0727_local_fire_7yr.csv')\n",
    "df2=pd.read_csv('0727_local_weather_7yr.csv')\n",
    "#발생장소_시도,관측일로 merge\n",
    "df = pd.merge(left=df2, right=df1, how='outer', on=(['관측일','발생장소_시도']))\n",
    "#산불발생-1, 산불미발생-0으로 표기된 '산불발생여부'컬럼 생성\n",
    "new_col=np.where(df['발생장소_관서'].isnull(),0,1)\n",
    "df.insert(0,'산불발생여부',new_col,True)\n",
    "#데이터 정렬하기\n",
    "df=df.sort_values('관측일',ascending=True)\n",
    "df=df.reset_index(drop=True)\n",
    "df=df.round(3) #소수점 셋째자리까지만 \n",
    "\n",
    "#결측치 처리\n",
    "#결측치가 단 2개밖에 없는 열은 위, 아래의 평균값으로 대체\n",
    "df[['일최고현지기압','일최고현지기압시각','일최저현지기압','일최저현지기압시각']] = df[['일최고현지기압','일최고현지기압시각','일최저현지기압','일최저현지기압시각']].fillna(df[['일최고현지기압','일최고현지기압시각','일최저현지기압','일최저현지기압시각']].interpolate())\n",
    "#강수량이 없어서 표기를 안한 행들이 결측치처럼 인식되는 '강수량' 열은 fillna()를 이용하여 강수량이 없는 날은 0으로 채워지도록 함\n",
    "df['일강수량']=df['일강수량'].fillna(0)\n",
    "\n",
    "#표기방식이 애매한 '시각'관련 컬럼과 EDA에서 산불 발생과 연관성이 없어보이는 컬럼(평균기온, 일최저기온, 일평균중하층운량, 일합계일조시간, 일평균지면온도)들은 제외\n",
    "df1=df[['산불발생여부', '발생장소_시도', '관측일', '일최고기온',\n",
    "       '일평균현지기압', '일최고현지기압', '일최저현지기압',\n",
    "       '일평균해면기압', '일최고해면기압', '일최저해면기압', '일평균상대습도',\n",
    "       '일최소상대습도', '일평균수증기압', '일최고수증기압', '일최저수증기압',\n",
    "       '일평균풍속', '일합성풍속', '일합성풍향', '일최대풍속', '일최대풍속풍향',\n",
    "       '일최대순간풍속', '일최대순간풍속풍향', '풍정합', '일최다풍향', '일강수량', '10분최다강수량',\n",
    "       '1시간최다강수량', '9_9 강수량', '일최심신적설',\n",
    "       '일최심적설', '합계깊이신적설', '일평균전운량', '최저운고',\n",
    "       '최다운량', '일합계일사량', '일합계소형증발량', '일합계대형증발량',\n",
    "       '일평균이슬점온도']]\n",
    "\n",
    "#결측치 많은 컬럼들 제외\n",
    "df1=df1.dropna(axis=1)"
   ]
  },
  {
   "cell_type": "code",
   "execution_count": 10,
   "metadata": {},
   "outputs": [],
   "source": [
    "#분석용파일-산불발생여부와 각 기상인자들만 있는 파일 csv로 저장하기\n",
    "df1.to_csv('0727_final_fire_weather_7yr.csv', index=False)"
   ]
  },
  {
   "cell_type": "code",
   "execution_count": 11,
   "metadata": {},
   "outputs": [],
   "source": [
    "#EDA용 파일-산불발생여부와 각 기상인자, 산불발생당시 산불관련인자들 있는 파일\n",
    "df2=df[['발생일시_시간', '발생일시_요일', '진화종료시간_년', '진화종료시간_월',\n",
    "       '진화종료시간_일', '진화종료시간_시간', '발생장소_관서', '발생장소_시군구', '발생장소_읍면', '발생장소_동리',\n",
    "       '발생원인_구분', '발생원인_세부원인', '발생원인_기타', '피해면적_합계']]\n",
    "\n",
    "df= pd.concat([df1,df2],axis=1)\n",
    "\n",
    "#EDA용 파일-산불발생여부와 각 기상인자, 산불발생당시 산불관련인자들 있는 파일 csv로 저장하기\n",
    "df.to_csv('0727_raw_fire_weather_7yr.csv', index=False)"
   ]
  }
 ],
 "metadata": {
  "kernelspec": {
   "display_name": "Python 3.9.7 ('base')",
   "language": "python",
   "name": "python3"
  },
  "language_info": {
   "codemirror_mode": {
    "name": "ipython",
    "version": 3
   },
   "file_extension": ".py",
   "mimetype": "text/x-python",
   "name": "python",
   "nbconvert_exporter": "python",
   "pygments_lexer": "ipython3",
   "version": "3.9.7"
  },
  "orig_nbformat": 4,
  "vscode": {
   "interpreter": {
    "hash": "e4cce46d6be9934fbd27f9ca0432556941ea5bdf741d4f4d64c6cd7f8dfa8fba"
   }
  }
 },
 "nbformat": 4,
 "nbformat_minor": 2
}
