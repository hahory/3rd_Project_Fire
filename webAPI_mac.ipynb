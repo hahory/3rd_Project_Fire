{
 "cells": [
  {
   "cell_type": "markdown",
   "metadata": {},
   "source": [
    "Web API:\n",
    "어떤 사이트가 가지고 있는 기능을 외부에서도 쉽게 사용할 수  있게 공개한 것\n",
    "XML 또는 JSON형식 등으로 응답\n",
    "(API(Application Programming Interface):어떤 프로그래밍 기능을 외부의 프로그램에서 호출해서 사용할 수 있게 만든 것=서로 다른 프로그램이 기능을 공유할 수 있게 절차와 규약을 정의한 것)"
   ]
  },
  {
   "cell_type": "code",
   "execution_count": 6,
   "metadata": {},
   "outputs": [
    {
     "ename": "SyntaxError",
     "evalue": "invalid syntax (Temp/ipykernel_20316/1725900567.py, line 7)",
     "output_type": "error",
     "traceback": [
      "\u001b[1;36m  File \u001b[1;32m\"C:\\Users\\user\\AppData\\Local\\Temp/ipykernel_20316/1725900567.py\"\u001b[1;36m, line \u001b[1;32m7\u001b[0m\n\u001b[1;33m    params ={'serviceKey' : apikey, 'searchStDt' : '19841201', 'searchEdDt' : '19861204', 'ocurcause':'입산자실화,'pageNo' : '1', 'numOfRows' : '10' }\u001b[0m\n\u001b[1;37m                                                                                                              ^\u001b[0m\n\u001b[1;31mSyntaxError\u001b[0m\u001b[1;31m:\u001b[0m invalid syntax\n"
     ]
    }
   ],
   "source": [
    "import requests\n",
    "import pprint\n",
    "\n",
    "url = 'http://openapi.forest.go.kr/openapi/service/forestDisasterService/frstFireOpenAPI'\n",
    "#API키를 지정(Encoding key로는 error가 나서 Decoding key로 진행함)\n",
    "apikey='q+LmC5LyVljCscdUobqB7LjX4lt+PwuTwejcQGR+mgW0lJYVQPIe1v7kepGi8T1i/EaTH0gMyvi7WheDbzEXvA=='\n",
    "params ={'serviceKey' : apikey, 'searchStDt' : '19841201', 'searchEdDt' : '19861204', 'pageNo' : '1', 'numOfRows' : '10' }\n",
    "\n",
    "response = requests.get(url, params=params)\n",
    "response.content"
   ]
  }
 ],
 "metadata": {
  "kernelspec": {
   "display_name": "Python 3.9.7 ('base')",
   "language": "python",
   "name": "python3"
  },
  "language_info": {
   "codemirror_mode": {
    "name": "ipython",
    "version": 3
   },
   "file_extension": ".py",
   "mimetype": "text/x-python",
   "name": "python",
   "nbconvert_exporter": "python",
   "pygments_lexer": "ipython3",
   "version": "3.9.7"
  },
  "orig_nbformat": 4,
  "vscode": {
   "interpreter": {
    "hash": "c1de356c01870b1905353d93fb5b08e9dac708fcd7a1cb7f129b78550db01998"
   }
  }
 },
 "nbformat": 4,
 "nbformat_minor": 2
}
