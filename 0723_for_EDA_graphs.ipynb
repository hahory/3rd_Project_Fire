{
 "cells": [
  {
   "cell_type": "code",
   "execution_count": 41,
   "metadata": {},
   "outputs": [],
   "source": [
    "\n",
    "import pandas as pd \n",
    "import numpy as np \n",
    "import matplotlib.pyplot as plt \n",
    "from sklearn.preprocessing import LabelEncoder \n",
    "from sklearn import datasets, model_selection, linear_model, ensemble,neighbors \n",
    "from sklearn.metrics import mean_squared_error,accuracy_score \n",
    "from sklearn.model_selection import train_test_split \n",
    "from sklearn.svm import SVC \n",
    "from sklearn.ensemble import ExtraTreesClassifier \n",
    "from sklearn.ensemble import RandomForestClassifier \n",
    "from xgboost import plot_importance \n",
    "from xgboost import XGBClassifier\n",
    "import plotly.graph_objs as go\n",
    "import plotly.express as px\n",
    "\n",
    "#matplotlib그래프에서 한글 폰트 사용\n",
    "import matplotlib\n",
    "from matplotlib import font_manager,rc\n",
    "font_path = \"/Users/ejju/Desktop/3rd_project/dataset_window_0721/NanumGothic.ttf\"\n",
    "font_name = font_manager.FontProperties(fname=font_path).get_name()\n",
    "matplotlib.rc('font',family=font_name)"
   ]
  },
  {
   "cell_type": "code",
   "execution_count": 42,
   "metadata": {},
   "outputs": [
    {
     "data": {
      "text/html": [
       "<div>\n",
       "<style scoped>\n",
       "    .dataframe tbody tr th:only-of-type {\n",
       "        vertical-align: middle;\n",
       "    }\n",
       "\n",
       "    .dataframe tbody tr th {\n",
       "        vertical-align: top;\n",
       "    }\n",
       "\n",
       "    .dataframe thead th {\n",
       "        text-align: right;\n",
       "    }\n",
       "</style>\n",
       "<table border=\"1\" class=\"dataframe\">\n",
       "  <thead>\n",
       "    <tr style=\"text-align: right;\">\n",
       "      <th></th>\n",
       "      <th>산불발생여부</th>\n",
       "      <th>발생장소_시도</th>\n",
       "      <th>관측일</th>\n",
       "      <th>일최고기온</th>\n",
       "      <th>일평균현지기압</th>\n",
       "      <th>일최고현지기압</th>\n",
       "      <th>일최저현지기압</th>\n",
       "      <th>일평균해면기압</th>\n",
       "      <th>일최고해면기압</th>\n",
       "      <th>일최저해면기압</th>\n",
       "      <th>...</th>\n",
       "      <th>일평균풍속</th>\n",
       "      <th>일최대풍속</th>\n",
       "      <th>일최대풍속풍향</th>\n",
       "      <th>일최대순간풍속</th>\n",
       "      <th>일최대순간풍속풍향</th>\n",
       "      <th>풍정합</th>\n",
       "      <th>일강수량</th>\n",
       "      <th>일평균전운량</th>\n",
       "      <th>최다운량</th>\n",
       "      <th>일합계일사량</th>\n",
       "    </tr>\n",
       "  </thead>\n",
       "  <tbody>\n",
       "    <tr>\n",
       "      <th>0</th>\n",
       "      <td>0</td>\n",
       "      <td>강원</td>\n",
       "      <td>20140101</td>\n",
       "      <td>6.362</td>\n",
       "      <td>985.015</td>\n",
       "      <td>988.123</td>\n",
       "      <td>982.354</td>\n",
       "      <td>1012.215</td>\n",
       "      <td>1015.362</td>\n",
       "      <td>1009.331</td>\n",
       "      <td>...</td>\n",
       "      <td>3.985</td>\n",
       "      <td>7.831</td>\n",
       "      <td>237.692</td>\n",
       "      <td>14.585</td>\n",
       "      <td>256.923</td>\n",
       "      <td>3449.692</td>\n",
       "      <td>0.0</td>\n",
       "      <td>2.850</td>\n",
       "      <td>8.00</td>\n",
       "      <td>6.922</td>\n",
       "    </tr>\n",
       "    <tr>\n",
       "      <th>1</th>\n",
       "      <td>0</td>\n",
       "      <td>경북</td>\n",
       "      <td>20140101</td>\n",
       "      <td>8.686</td>\n",
       "      <td>998.207</td>\n",
       "      <td>1000.529</td>\n",
       "      <td>994.764</td>\n",
       "      <td>1013.293</td>\n",
       "      <td>1015.679</td>\n",
       "      <td>1009.800</td>\n",
       "      <td>...</td>\n",
       "      <td>3.557</td>\n",
       "      <td>7.436</td>\n",
       "      <td>276.429</td>\n",
       "      <td>13.836</td>\n",
       "      <td>277.857</td>\n",
       "      <td>3067.286</td>\n",
       "      <td>0.1</td>\n",
       "      <td>2.075</td>\n",
       "      <td>6.25</td>\n",
       "      <td>9.260</td>\n",
       "    </tr>\n",
       "    <tr>\n",
       "      <th>2</th>\n",
       "      <td>0</td>\n",
       "      <td>경북</td>\n",
       "      <td>20140102</td>\n",
       "      <td>8.664</td>\n",
       "      <td>1004.921</td>\n",
       "      <td>1006.907</td>\n",
       "      <td>1000.486</td>\n",
       "      <td>1020.286</td>\n",
       "      <td>1022.336</td>\n",
       "      <td>1015.629</td>\n",
       "      <td>...</td>\n",
       "      <td>2.300</td>\n",
       "      <td>5.436</td>\n",
       "      <td>262.857</td>\n",
       "      <td>9.036</td>\n",
       "      <td>288.571</td>\n",
       "      <td>1984.714</td>\n",
       "      <td>0.0</td>\n",
       "      <td>2.600</td>\n",
       "      <td>6.00</td>\n",
       "      <td>9.880</td>\n",
       "    </tr>\n",
       "  </tbody>\n",
       "</table>\n",
       "<p>3 rows × 25 columns</p>\n",
       "</div>"
      ],
      "text/plain": [
       "   산불발생여부 발생장소_시도       관측일  일최고기온   일평균현지기압   일최고현지기압   일최저현지기압   일평균해면기압  \\\n",
       "0       0      강원  20140101  6.362   985.015   988.123   982.354  1012.215   \n",
       "1       0      경북  20140101  8.686   998.207  1000.529   994.764  1013.293   \n",
       "2       0      경북  20140102  8.664  1004.921  1006.907  1000.486  1020.286   \n",
       "\n",
       "    일최고해면기압   일최저해면기압  ...  일평균풍속  일최대풍속  일최대풍속풍향  일최대순간풍속  일최대순간풍속풍향  \\\n",
       "0  1015.362  1009.331  ...  3.985  7.831  237.692   14.585    256.923   \n",
       "1  1015.679  1009.800  ...  3.557  7.436  276.429   13.836    277.857   \n",
       "2  1022.336  1015.629  ...  2.300  5.436  262.857    9.036    288.571   \n",
       "\n",
       "        풍정합  일강수량  일평균전운량  최다운량  일합계일사량  \n",
       "0  3449.692   0.0   2.850  8.00   6.922  \n",
       "1  3067.286   0.1   2.075  6.25   9.260  \n",
       "2  1984.714   0.0   2.600  6.00   9.880  \n",
       "\n",
       "[3 rows x 25 columns]"
      ]
     },
     "execution_count": 42,
     "metadata": {},
     "output_type": "execute_result"
    }
   ],
   "source": [
    "df = pd.read_csv('final_fire_weather_7yr.csv') \n",
    "df.head(3)"
   ]
  },
  {
   "cell_type": "code",
   "execution_count": 30,
   "metadata": {},
   "outputs": [
    {
     "data": {
      "text/plain": [
       "Index(['산불발생여부', '발생장소_시도', '관측일', '일최고기온', '일평균현지기압', '일최고현지기압', '일최저현지기압',\n",
       "       '일평균해면기압', '일최고해면기압', '일최저해면기압', '일평균상대습도', '일최소상대습도', '일평균수증기압',\n",
       "       '일최고수증기압', '일최저수증기압', '일평균풍속', '일최대풍속', '일최대풍속풍향', '일최대순간풍속',\n",
       "       '일최대순간풍속풍향', '풍정합', '일강수량', '일평균전운량', '최다운량', '일합계일사량'],\n",
       "      dtype='object')"
      ]
     },
     "execution_count": 30,
     "metadata": {},
     "output_type": "execute_result"
    }
   ],
   "source": [
    "df.columns"
   ]
  },
  {
   "cell_type": "code",
   "execution_count": 43,
   "metadata": {},
   "outputs": [],
   "source": [
    "df.drop(['발생장소_시도', '관측일'], axis=1, inplace=True)"
   ]
  },
  {
   "cell_type": "code",
   "execution_count": 37,
   "metadata": {},
   "outputs": [],
   "source": [
    "X = df[df.columns.difference(['산불발생여부'])]\n",
    "y = df[['산불발생여부']]\n",
    "X_train, X_test, y_train, y_test = train_test_split(X, y, train_size=0.8, test_size=0.2)"
   ]
  },
  {
   "cell_type": "code",
   "execution_count": 38,
   "metadata": {},
   "outputs": [
    {
     "name": "stdout",
     "output_type": "stream",
     "text": [
      "(4401, 22)\n",
      "(1101, 22)\n",
      "(4401, 1)\n",
      "(1101, 1)\n",
      "(5502, 23)\n"
     ]
    }
   ],
   "source": [
    "print(X_train.shape)\n",
    "print(X_test.shape)\n",
    "print(y_train.shape)\n",
    "print(y_test.shape)\n",
    "print(df.shape)"
   ]
  },
  {
   "cell_type": "code",
   "execution_count": 39,
   "metadata": {},
   "outputs": [
    {
     "name": "stderr",
     "output_type": "stream",
     "text": [
      "/Users/ejju/opt/anaconda3/lib/python3.9/site-packages/sklearn/utils/validation.py:63: DataConversionWarning: A column-vector y was passed when a 1d array was expected. Please change the shape of y to (n_samples, ), for example using ravel().\n",
      "  return f(*args, **kwargs)\n"
     ]
    },
    {
     "data": {
      "text/plain": [
       "((4401, 10), (1101, 10))"
      ]
     },
     "execution_count": 39,
     "metadata": {},
     "output_type": "execute_result"
    }
   ],
   "source": [
    "# target(Price)와 가장 correlated 된 features 를 k개 고르기.\n",
    "## f_regresison, SelectKBest 불러오기.\n",
    "from sklearn.feature_selection import f_regression, SelectKBest\n",
    "## selctor 정의하기.\n",
    "selector = SelectKBest(score_func=f_regression, k=10)\n",
    "## 학습데이터에 fit_transform \n",
    "X_train_selected = selector.fit_transform(X_train, y_train)\n",
    "## 테스트 데이터는 transform\n",
    "X_test_selected = selector.transform(X_test)\n",
    "X_train_selected.shape, X_test_selected.shape"
   ]
  },
  {
   "cell_type": "code",
   "execution_count": 40,
   "metadata": {},
   "outputs": [
    {
     "name": "stdout",
     "output_type": "stream",
     "text": [
      "Selected names:  Index(['일최고수증기압', '일최대순간풍속', '일최대풍속', '일최소상대습도', '일최저수증기압', '일평균상대습도',\n",
      "       '일평균수증기압', '일평균전운량', '일합계일사량', '최다운량'],\n",
      "      dtype='object')\n",
      "Unselected names:  Index(['일강수량', '일최고기온', '일최고해면기압', '일최고현지기압', '일최대순간풍속풍향', '일최대풍속풍향',\n",
      "       '일최저해면기압', '일최저현지기압', '일평균풍속', '일평균해면기압', '일평균현지기압', '풍정합'],\n",
      "      dtype='object')\n"
     ]
    }
   ],
   "source": [
    "#선정된 10개의 변수들 확인하기\n",
    "all_names = X_train.columns\n",
    "## selector.get_support()\n",
    "selected_mask = selector.get_support()\n",
    "## 선택된 특성(변수)들\n",
    "selected_names = all_names[selected_mask]\n",
    "## 선택되지 않은 특성(변수)들\n",
    "unselected_names = all_names[~selected_mask]\n",
    "print('Selected names: ', selected_names)\n",
    "print('Unselected names: ', unselected_names)\n"
   ]
  },
  {
   "cell_type": "code",
   "execution_count": 33,
   "metadata": {},
   "outputs": [],
   "source": [
    "#df.to_csv('0722_revised_var.csv', index=False)"
   ]
  },
  {
   "cell_type": "code",
   "execution_count": 16,
   "metadata": {},
   "outputs": [
    {
     "data": {
      "text/plain": [
       "Index(['산불발생여부', '일최고기온', '일평균현지기압', '일최고현지기압', '일최저현지기압', '일평균해면기압',\n",
       "       '일최고해면기압', '일최저해면기압', '일평균상대습도', '일최소상대습도', '일평균수증기압', '일최고수증기압',\n",
       "       '일최저수증기압', '일평균풍속', '일최대풍속', '일최대풍속풍향', '일최대순간풍속', '일최대순간풍속풍향', '풍정합',\n",
       "       '일강수량', '일평균전운량', '최다운량', '일합계일사량'],\n",
       "      dtype='object')"
      ]
     },
     "execution_count": 16,
     "metadata": {},
     "output_type": "execute_result"
    }
   ],
   "source": [
    "df.columns"
   ]
  },
  {
   "cell_type": "code",
   "execution_count": 17,
   "metadata": {},
   "outputs": [
    {
     "data": {
      "text/plain": [
       "count    5502.000000\n",
       "mean       18.044650\n",
       "std         9.594198\n",
       "min        -9.493000\n",
       "25%         9.643000\n",
       "50%        19.555500\n",
       "75%        26.070500\n",
       "max        37.864000\n",
       "Name: 일최고기온, dtype: float64"
      ]
     },
     "execution_count": 17,
     "metadata": {},
     "output_type": "execute_result"
    }
   ],
   "source": [
    "df['일최고기온'].describe()"
   ]
  },
  {
   "cell_type": "code",
   "execution_count": 44,
   "metadata": {},
   "outputs": [
    {
     "data": {
      "text/plain": [
       "<AxesSubplot:xlabel='일최고기온_bins'>"
      ]
     },
     "execution_count": 44,
     "metadata": {},
     "output_type": "execute_result"
    },
    {
     "name": "stderr",
     "output_type": "stream",
     "text": [
      "/Users/ejju/opt/anaconda3/lib/python3.9/site-packages/IPython/core/pylabtools.py:151: UserWarning: Glyph 51068 (\\N{HANGUL SYLLABLE IL}) missing from current font.\n",
      "  fig.canvas.print_figure(bytes_io, **kw)\n",
      "/Users/ejju/opt/anaconda3/lib/python3.9/site-packages/IPython/core/pylabtools.py:151: UserWarning: Glyph 52572 (\\N{HANGUL SYLLABLE COE}) missing from current font.\n",
      "  fig.canvas.print_figure(bytes_io, **kw)\n",
      "/Users/ejju/opt/anaconda3/lib/python3.9/site-packages/IPython/core/pylabtools.py:151: UserWarning: Glyph 44256 (\\N{HANGUL SYLLABLE GO}) missing from current font.\n",
      "  fig.canvas.print_figure(bytes_io, **kw)\n",
      "/Users/ejju/opt/anaconda3/lib/python3.9/site-packages/IPython/core/pylabtools.py:151: UserWarning: Glyph 44592 (\\N{HANGUL SYLLABLE GI}) missing from current font.\n",
      "  fig.canvas.print_figure(bytes_io, **kw)\n",
      "/Users/ejju/opt/anaconda3/lib/python3.9/site-packages/IPython/core/pylabtools.py:151: UserWarning: Glyph 50728 (\\N{HANGUL SYLLABLE ON}) missing from current font.\n",
      "  fig.canvas.print_figure(bytes_io, **kw)\n"
     ]
    },
    {
     "data": {
      "image/png": "[encoded data removed]",
      "text/plain": [
       "<Figure size 432x288 with 1 Axes>"
      ]
     },
     "metadata": {
      "needs_background": "light"
     },
     "output_type": "display_data"
    }
   ],
   "source": [
    "#numpy-histogram\n",
    "#전체 개수를 구간을 분할해서 보여줌\n",
    "cnt,bins=np.histogram(df.일최고기온, bins=6)\n",
    "cnt,bins\n",
    "#pandas-cut\n",
    "df['일최고기온_bins']=pd.cut(x=df.일최고기온,bins=bins,\n",
    "                     labels=['1','2','3','4','5','6'],\n",
    "                     include_lowest=True)\n",
    "df.일최고기온_bins\n",
    "df.groupby(['일최고기온_bins'])['산불발생여부'].count().plot(kind='bar')"
   ]
  },
  {
   "cell_type": "code",
   "execution_count": 44,
   "metadata": {},
   "outputs": [
    {
     "data": {
      "text/plain": [
       "<AxesSubplot:xlabel='dayMaxT_bins'>"
      ]
     },
     "execution_count": 44,
     "metadata": {},
     "output_type": "execute_result"
    },
    {
     "data": {
      "image/png": "[encoded data removed]",
      "text/plain": [
       "<Figure size 432x288 with 1 Axes>"
      ]
     },
     "metadata": {
      "needs_background": "light"
     },
     "output_type": "display_data"
    }
   ],
   "source": [
    "cnt,bins=np.histogram(df.dayMaxT, bins=6)\n",
    "cnt,bins\n",
    "\n",
    "df['dayMaxT_bins']=pd.cut(x=df.dayMaxT,bins=bins,\n",
    "                     labels=['1','2','3','4','5','6'],\n",
    "                     include_lowest=True)\n",
    "df.dayMaxT_bins\n",
    "df.groupby(['dayMaxT_bins'])['fire'].count().plot(kind='bar')"
   ]
  },
  {
   "cell_type": "code",
   "execution_count": 45,
   "metadata": {},
   "outputs": [
    {
     "data": {
      "text/plain": [
       "<AxesSubplot:xlabel='dayMinT_bins'>"
      ]
     },
     "execution_count": 45,
     "metadata": {},
     "output_type": "execute_result"
    },
    {
     "data": {
      "image/png": "[encoded data removed]",
      "text/plain": [
       "<Figure size 432x288 with 1 Axes>"
      ]
     },
     "metadata": {
      "needs_background": "light"
     },
     "output_type": "display_data"
    }
   ],
   "source": [
    "cnt,bins=np.histogram(df.dayMinT, bins=6)\n",
    "cnt,bins\n",
    "\n",
    "df['dayMinT_bins']=pd.cut(x=df.dayMinT,bins=bins,\n",
    "                     labels=['1','2','3','4','5','6'],\n",
    "                     include_lowest=True)\n",
    "df.dayMinT_bins\n",
    "df.groupby(['dayMinT_bins'])['fire'].count().plot(kind='bar')"
   ]
  },
  {
   "cell_type": "code",
   "execution_count": 46,
   "metadata": {},
   "outputs": [
    {
     "data": {
      "text/plain": [
       "<AxesSubplot:xlabel='dayAvgP_bins'>"
      ]
     },
     "execution_count": 46,
     "metadata": {},
     "output_type": "execute_result"
    },
    {
     "data": {
      "image/png": "[encoded data removed]",
      "text/plain": [
       "<Figure size 432x288 with 1 Axes>"
      ]
     },
     "metadata": {
      "needs_background": "light"
     },
     "output_type": "display_data"
    }
   ],
   "source": [
    "cnt,bins=np.histogram(df.dayAvgP, bins=6)\n",
    "cnt,bins\n",
    "\n",
    "df['dayAvgP_bins']=pd.cut(x=df.dayAvgP,bins=bins,\n",
    "                     labels=['1','2','3','4','5','6'],\n",
    "                     include_lowest=True)\n",
    "df.dayAvgP_bins\n",
    "df.groupby(['dayAvgP_bins'])['fire'].count().plot(kind='bar')"
   ]
  },
  {
   "cell_type": "code",
   "execution_count": 47,
   "metadata": {},
   "outputs": [
    {
     "data": {
      "text/plain": [
       "<AxesSubplot:xlabel='dayMaxP_bins'>"
      ]
     },
     "execution_count": 47,
     "metadata": {},
     "output_type": "execute_result"
    },
    {
     "data": {
      "image/png": "[encoded data removed]",
      "text/plain": [
       "<Figure size 432x288 with 1 Axes>"
      ]
     },
     "metadata": {
      "needs_background": "light"
     },
     "output_type": "display_data"
    }
   ],
   "source": [
    "cnt,bins=np.histogram(df.dayMaxP, bins=6)\n",
    "cnt,bins\n",
    "\n",
    "df['dayMaxP_bins']=pd.cut(x=df.dayMaxP,bins=bins,\n",
    "                     labels=['1','2','3','4','5','6'],\n",
    "                     include_lowest=True)\n",
    "df.dayMaxP_bins\n",
    "df.groupby(['dayMaxP_bins'])['fire'].count().plot(kind='bar')"
   ]
  },
  {
   "cell_type": "code",
   "execution_count": 48,
   "metadata": {},
   "outputs": [
    {
     "data": {
      "text/plain": [
       "<AxesSubplot:xlabel='dayMinP_bins'>"
      ]
     },
     "execution_count": 48,
     "metadata": {},
     "output_type": "execute_result"
    },
    {
     "data": {
      "image/png": "[encoded data removed]",
      "text/plain": [
       "<Figure size 432x288 with 1 Axes>"
      ]
     },
     "metadata": {
      "needs_background": "light"
     },
     "output_type": "display_data"
    }
   ],
   "source": [
    "cnt,bins=np.histogram(df.dayMinP, bins=6)\n",
    "cnt,bins\n",
    "\n",
    "df['dayMinP_bins']=pd.cut(x=df.dayMinP,bins=bins,\n",
    "                     labels=['1','2','3','4','5','6'],\n",
    "                     include_lowest=True)\n",
    "df.dayMinP_bins\n",
    "df.groupby(['dayMinP_bins'])['fire'].count().plot(kind='bar')"
   ]
  },
  {
   "cell_type": "code",
   "execution_count": 49,
   "metadata": {},
   "outputs": [
    {
     "data": {
      "text/plain": [
       "<AxesSubplot:xlabel='dayAvgPsea_bins'>"
      ]
     },
     "execution_count": 49,
     "metadata": {},
     "output_type": "execute_result"
    },
    {
     "data": {
      "image/png": "[encoded data removed]",
      "text/plain": [
       "<Figure size 432x288 with 1 Axes>"
      ]
     },
     "metadata": {
      "needs_background": "light"
     },
     "output_type": "display_data"
    }
   ],
   "source": [
    "cnt,bins=np.histogram(df.dayAvgPsea, bins=6)\n",
    "cnt,bins\n",
    "\n",
    "df['dayAvgPsea_bins']=pd.cut(x=df.dayAvgPsea,bins=bins,\n",
    "                     labels=['1','2','3','4','5','6'],\n",
    "                     include_lowest=True)\n",
    "df.dayAvgPsea_bins\n",
    "df.groupby(['dayAvgPsea_bins'])['fire'].count().plot(kind='bar')"
   ]
  },
  {
   "cell_type": "code",
   "execution_count": 50,
   "metadata": {},
   "outputs": [
    {
     "data": {
      "text/plain": [
       "<AxesSubplot:xlabel='dayMaxPsea_bins'>"
      ]
     },
     "execution_count": 50,
     "metadata": {},
     "output_type": "execute_result"
    },
    {
     "data": {
      "image/png": "[encoded data removed]",
      "text/plain": [
       "<Figure size 432x288 with 1 Axes>"
      ]
     },
     "metadata": {
      "needs_background": "light"
     },
     "output_type": "display_data"
    }
   ],
   "source": [
    "cnt,bins=np.histogram(df.dayMaxPsea, bins=6)\n",
    "cnt,bins\n",
    "\n",
    "df['dayMaxPsea_bins']=pd.cut(x=df.dayMaxPsea,bins=bins,\n",
    "                     labels=['1','2','3','4','5','6'],\n",
    "                     include_lowest=True)\n",
    "df.dayMaxPsea_bins\n",
    "df.groupby(['dayMaxPsea_bins'])['fire'].count().plot(kind='bar')"
   ]
  },
  {
   "cell_type": "code",
   "execution_count": 51,
   "metadata": {},
   "outputs": [
    {
     "data": {
      "text/plain": [
       "<AxesSubplot:xlabel='dayMinPsea_bins'>"
      ]
     },
     "execution_count": 51,
     "metadata": {},
     "output_type": "execute_result"
    },
    {
     "data": {
      "image/png": "[encoded data removed]",
      "text/plain": [
       "<Figure size 432x288 with 1 Axes>"
      ]
     },
     "metadata": {
      "needs_background": "light"
     },
     "output_type": "display_data"
    }
   ],
   "source": [
    "cnt,bins=np.histogram(df.dayMinPsea, bins=6)\n",
    "cnt,bins\n",
    "\n",
    "df['dayMinPsea_bins']=pd.cut(x=df.dayMinPsea,bins=bins,\n",
    "                     labels=['1','2','3','4','5','6'],\n",
    "                     include_lowest=True)\n",
    "df.dayMinPsea_bins\n",
    "df.groupby(['dayMinPsea_bins'])['fire'].count().plot(kind='bar')"
   ]
  },
  {
   "cell_type": "code",
   "execution_count": 52,
   "metadata": {},
   "outputs": [
    {
     "data": {
      "text/plain": [
       "<AxesSubplot:xlabel='dayAvgRhm_bins'>"
      ]
     },
     "execution_count": 52,
     "metadata": {},
     "output_type": "execute_result"
    },
    {
     "data": {
      "image/png": "[encoded data removed]",
      "text/plain": [
       "<Figure size 432x288 with 1 Axes>"
      ]
     },
     "metadata": {
      "needs_background": "light"
     },
     "output_type": "display_data"
    }
   ],
   "source": [
    "cnt,bins=np.histogram(df.dayAvgRhm, bins=6)\n",
    "cnt,bins\n",
    "\n",
    "df['dayAvgRhm_bins']=pd.cut(x=df.dayAvgRhm,bins=bins,\n",
    "                     labels=['1','2','3','4','5','6'],\n",
    "                     include_lowest=True)\n",
    "df.dayAvgRhm_bins\n",
    "df.groupby(['dayAvgRhm_bins'])['fire'].count().plot(kind='bar')"
   ]
  },
  {
   "cell_type": "code",
   "execution_count": 53,
   "metadata": {},
   "outputs": [
    {
     "data": {
      "text/plain": [
       "<AxesSubplot:xlabel='dayMinRhm_bins'>"
      ]
     },
     "execution_count": 53,
     "metadata": {},
     "output_type": "execute_result"
    },
    {
     "data": {
      "image/png": "[encoded data removed]",
      "text/plain": [
       "<Figure size 432x288 with 1 Axes>"
      ]
     },
     "metadata": {
      "needs_background": "light"
     },
     "output_type": "display_data"
    }
   ],
   "source": [
    "cnt,bins=np.histogram(df.dayMinRhm, bins=6)\n",
    "cnt,bins\n",
    "\n",
    "df['dayMinRhm_bins']=pd.cut(x=df.dayMinRhm,bins=bins,\n",
    "                     labels=['1','2','3','4','5','6'],\n",
    "                     include_lowest=True)\n",
    "df.dayMinRhm_bins\n",
    "df.groupby(['dayMinRhm_bins'])['fire'].count().plot(kind='bar')"
   ]
  },
  {
   "cell_type": "code",
   "execution_count": 54,
   "metadata": {},
   "outputs": [
    {
     "data": {
      "text/plain": [
       "<AxesSubplot:xlabel='dayAvgWaterP_bins'>"
      ]
     },
     "execution_count": 54,
     "metadata": {},
     "output_type": "execute_result"
    },
    {
     "data": {
      "image/png": "[encoded data removed]",
      "text/plain": [
       "<Figure size 432x288 with 1 Axes>"
      ]
     },
     "metadata": {
      "needs_background": "light"
     },
     "output_type": "display_data"
    }
   ],
   "source": [
    "cnt,bins=np.histogram(df.dayAvgWaterP, bins=6)\n",
    "cnt,bins\n",
    "\n",
    "df['dayAvgWaterP_bins']=pd.cut(x=df.dayAvgWaterP,bins=bins,\n",
    "                     labels=['1','2','3','4','5','6'],\n",
    "                     include_lowest=True)\n",
    "df.dayAvgWaterP_bins\n",
    "df.groupby(['dayAvgWaterP_bins'])['fire'].count().plot(kind='bar')"
   ]
  },
  {
   "cell_type": "code",
   "execution_count": 55,
   "metadata": {},
   "outputs": [
    {
     "data": {
      "text/plain": [
       "<AxesSubplot:xlabel='dayMaxWaterP_bins'>"
      ]
     },
     "execution_count": 55,
     "metadata": {},
     "output_type": "execute_result"
    },
    {
     "data": {
      "image/png": "[encoded data removed]",
      "text/plain": [
       "<Figure size 432x288 with 1 Axes>"
      ]
     },
     "metadata": {
      "needs_background": "light"
     },
     "output_type": "display_data"
    }
   ],
   "source": [
    "cnt,bins=np.histogram(df.dayMaxWaterP, bins=6)\n",
    "cnt,bins\n",
    "\n",
    "df['dayMaxWaterP_bins']=pd.cut(x=df.dayMaxWaterP,bins=bins,\n",
    "                     labels=['1','2','3','4','5','6'],\n",
    "                     include_lowest=True)\n",
    "df.dayMaxWaterP_bins\n",
    "df.groupby(['dayMaxWaterP_bins'])['fire'].count().plot(kind='bar')"
   ]
  },
  {
   "cell_type": "code",
   "execution_count": 56,
   "metadata": {},
   "outputs": [
    {
     "data": {
      "text/plain": [
       "<AxesSubplot:xlabel='dayMinWaterP_bins'>"
      ]
     },
     "execution_count": 56,
     "metadata": {},
     "output_type": "execute_result"
    },
    {
     "data": {
      "image/png": "[encoded data removed]",
      "text/plain": [
       "<Figure size 432x288 with 1 Axes>"
      ]
     },
     "metadata": {
      "needs_background": "light"
     },
     "output_type": "display_data"
    }
   ],
   "source": [
    "cnt,bins=np.histogram(df.dayMinWaterP, bins=6)\n",
    "cnt,bins\n",
    "\n",
    "df['dayMinWaterP_bins']=pd.cut(x=df.dayMinWaterP,bins=bins,\n",
    "                     labels=['1','2','3','4','5','6'],\n",
    "                     include_lowest=True)\n",
    "df.dayMinWaterP_bins\n",
    "df.groupby(['dayMinWaterP_bins'])['fire'].count().plot(kind='bar')"
   ]
  },
  {
   "cell_type": "code",
   "execution_count": 57,
   "metadata": {},
   "outputs": [
    {
     "data": {
      "text/plain": [
       "<AxesSubplot:xlabel='dayAvgWS_bins'>"
      ]
     },
     "execution_count": 57,
     "metadata": {},
     "output_type": "execute_result"
    },
    {
     "data": {
      "image/png": "[encoded data removed]",
      "text/plain": [
       "<Figure size 432x288 with 1 Axes>"
      ]
     },
     "metadata": {
      "needs_background": "light"
     },
     "output_type": "display_data"
    }
   ],
   "source": [
    "cnt,bins=np.histogram(df.dayAvgWS, bins=6)\n",
    "cnt,bins\n",
    "\n",
    "df['dayAvgWS_bins']=pd.cut(x=df.dayAvgWS,bins=bins,\n",
    "                     labels=['1','2','3','4','5','6'],\n",
    "                     include_lowest=True)\n",
    "df.dayAvgWS_bins\n",
    "df.groupby(['dayAvgWS_bins'])['fire'].count().plot(kind='bar')"
   ]
  },
  {
   "cell_type": "code",
   "execution_count": 58,
   "metadata": {},
   "outputs": [
    {
     "data": {
      "text/plain": [
       "<AxesSubplot:xlabel='dayMaxWS_bins'>"
      ]
     },
     "execution_count": 58,
     "metadata": {},
     "output_type": "execute_result"
    },
    {
     "data": {
      "image/png": "[encoded data removed]",
      "text/plain": [
       "<Figure size 432x288 with 1 Axes>"
      ]
     },
     "metadata": {
      "needs_background": "light"
     },
     "output_type": "display_data"
    }
   ],
   "source": [
    "cnt,bins=np.histogram(df.dayMaxWS, bins=6)\n",
    "cnt,bins\n",
    "\n",
    "df['dayMaxWS_bins']=pd.cut(x=df.dayMaxWS,bins=bins,\n",
    "                     labels=['1','2','3','4','5','6'],\n",
    "                     include_lowest=True)\n",
    "df.dayMaxWS_bins\n",
    "df.groupby(['dayMaxWS_bins'])['fire'].count().plot(kind='bar')"
   ]
  },
  {
   "cell_type": "code",
   "execution_count": 59,
   "metadata": {},
   "outputs": [
    {
     "data": {
      "text/plain": [
       "<AxesSubplot:xlabel='dayMaxWSWD_bins'>"
      ]
     },
     "execution_count": 59,
     "metadata": {},
     "output_type": "execute_result"
    },
    {
     "data": {
      "image/png": "[encoded data removed]",
      "text/plain": [
       "<Figure size 432x288 with 1 Axes>"
      ]
     },
     "metadata": {
      "needs_background": "light"
     },
     "output_type": "display_data"
    }
   ],
   "source": [
    "cnt,bins=np.histogram(df.dayMaxWSWD, bins=6)\n",
    "cnt,bins\n",
    "\n",
    "df['dayMaxWSWD_bins']=pd.cut(x=df.dayMaxWSWD,bins=bins,\n",
    "                     labels=['1','2','3','4','5','6'],\n",
    "                     include_lowest=True)\n",
    "df.dayMaxWSWD_bins\n",
    "df.groupby(['dayMaxWSWD_bins'])['fire'].count().plot(kind='bar')"
   ]
  },
  {
   "cell_type": "code",
   "execution_count": 60,
   "metadata": {},
   "outputs": [
    {
     "data": {
      "text/plain": [
       "<AxesSubplot:xlabel='dayMaxInsWS_bins'>"
      ]
     },
     "execution_count": 60,
     "metadata": {},
     "output_type": "execute_result"
    },
    {
     "data": {
      "image/png": "[encoded data removed]",
      "text/plain": [
       "<Figure size 432x288 with 1 Axes>"
      ]
     },
     "metadata": {
      "needs_background": "light"
     },
     "output_type": "display_data"
    }
   ],
   "source": [
    "cnt,bins=np.histogram(df.dayMaxInsWS, bins=6)\n",
    "cnt,bins\n",
    "\n",
    "df['dayMaxInsWS_bins']=pd.cut(x=df.dayMaxInsWS,bins=bins,\n",
    "                     labels=['1','2','3','4','5','6'],\n",
    "                     include_lowest=True)\n",
    "df.dayMaxInsWS_bins\n",
    "df.groupby(['dayMaxInsWS_bins'])['fire'].count().plot(kind='bar')"
   ]
  },
  {
   "cell_type": "code",
   "execution_count": 61,
   "metadata": {},
   "outputs": [
    {
     "data": {
      "text/plain": [
       "<AxesSubplot:xlabel='dayMaxInsWSWD_bins'>"
      ]
     },
     "execution_count": 61,
     "metadata": {},
     "output_type": "execute_result"
    },
    {
     "data": {
      "image/png": "[encoded data removed]",
      "text/plain": [
       "<Figure size 432x288 with 1 Axes>"
      ]
     },
     "metadata": {
      "needs_background": "light"
     },
     "output_type": "display_data"
    }
   ],
   "source": [
    "cnt,bins=np.histogram(df.dayMaxInsWSWD, bins=6)\n",
    "cnt,bins\n",
    "\n",
    "df['dayMaxInsWSWD_bins']=pd.cut(x=df.dayMaxInsWSWD,bins=bins,\n",
    "                     labels=['1','2','3','4','5','6'],\n",
    "                     include_lowest=True)\n",
    "df.dayMaxInsWSWD_bins\n",
    "df.groupby(['dayMaxInsWSWD_bins'])['fire'].count().plot(kind='bar')"
   ]
  },
  {
   "cell_type": "code",
   "execution_count": 62,
   "metadata": {},
   "outputs": [
    {
     "data": {
      "text/plain": [
       "<AxesSubplot:xlabel='hr24sumRws_bins'>"
      ]
     },
     "execution_count": 62,
     "metadata": {},
     "output_type": "execute_result"
    },
    {
     "data": {
      "image/png": "[encoded data removed]",
      "text/plain": [
       "<Figure size 432x288 with 1 Axes>"
      ]
     },
     "metadata": {
      "needs_background": "light"
     },
     "output_type": "display_data"
    }
   ],
   "source": [
    "cnt,bins=np.histogram(df.hr24sumRws, bins=6)\n",
    "cnt,bins\n",
    "\n",
    "df['hr24sumRws_bins']=pd.cut(x=df.hr24sumRws,bins=bins,\n",
    "                     labels=['1','2','3','4','5','6'],\n",
    "                     include_lowest=True)\n",
    "df.hr24sumRws_bins\n",
    "df.groupby(['hr24sumRws_bins'])['fire'].count().plot(kind='bar')"
   ]
  },
  {
   "cell_type": "code",
   "execution_count": 63,
   "metadata": {},
   "outputs": [
    {
     "data": {
      "text/plain": [
       "<AxesSubplot:xlabel='dayAvgCloud_bins'>"
      ]
     },
     "execution_count": 63,
     "metadata": {},
     "output_type": "execute_result"
    },
    {
     "data": {
      "image/png": "[encoded data removed]",
      "text/plain": [
       "<Figure size 432x288 with 1 Axes>"
      ]
     },
     "metadata": {
      "needs_background": "light"
     },
     "output_type": "display_data"
    }
   ],
   "source": [
    "cnt,bins=np.histogram(df.dayAvgCloud, bins=6)\n",
    "cnt,bins\n",
    "\n",
    "df['dayAvgCloud_bins']=pd.cut(x=df.dayAvgCloud,bins=bins,\n",
    "                     labels=['1','2','3','4','5','6'],\n",
    "                     include_lowest=True)\n",
    "df.dayAvgCloud_bins\n",
    "df.groupby(['dayAvgCloud_bins'])['fire'].count().plot(kind='bar')"
   ]
  },
  {
   "cell_type": "code",
   "execution_count": 64,
   "metadata": {},
   "outputs": [
    {
     "data": {
      "text/plain": [
       "<AxesSubplot:xlabel='dayAvgMiddleLowCloud_bins'>"
      ]
     },
     "execution_count": 64,
     "metadata": {},
     "output_type": "execute_result"
    },
    {
     "data": {
      "image/png": "[encoded data removed]",
      "text/plain": [
       "<Figure size 432x288 with 1 Axes>"
      ]
     },
     "metadata": {
      "needs_background": "light"
     },
     "output_type": "display_data"
    }
   ],
   "source": [
    "cnt,bins=np.histogram(df.dayAvgMiddleLowCloud, bins=6)\n",
    "cnt,bins\n",
    "\n",
    "df['dayAvgMiddleLowCloud_bins']=pd.cut(x=df.dayAvgMiddleLowCloud,bins=bins,\n",
    "                     labels=['1','2','3','4','5','6'],\n",
    "                     include_lowest=True)\n",
    "df.dayAvgMiddleLowCloud_bins\n",
    "df.groupby(['dayAvgMiddleLowCloud_bins'])['fire'].count().plot(kind='bar')"
   ]
  },
  {
   "cell_type": "code",
   "execution_count": 65,
   "metadata": {},
   "outputs": [
    {
     "data": {
      "text/plain": [
       "<AxesSubplot:xlabel='maxCloud_bins'>"
      ]
     },
     "execution_count": 65,
     "metadata": {},
     "output_type": "execute_result"
    },
    {
     "data": {
      "image/png": "[encoded data removed]",
      "text/plain": [
       "<Figure size 432x288 with 1 Axes>"
      ]
     },
     "metadata": {
      "needs_background": "light"
     },
     "output_type": "display_data"
    }
   ],
   "source": [
    "cnt,bins=np.histogram(df.maxCloud, bins=6)\n",
    "cnt,bins\n",
    "\n",
    "df['maxCloud_bins']=pd.cut(x=df.maxCloud,bins=bins,\n",
    "                     labels=['1','2','3','4','5','6'],\n",
    "                     include_lowest=True)\n",
    "df.maxCloud_bins\n",
    "df.groupby(['maxCloud_bins'])['fire'].count().plot(kind='bar')"
   ]
  },
  {
   "cell_type": "code",
   "execution_count": 66,
   "metadata": {},
   "outputs": [
    {
     "data": {
      "text/plain": [
       "<AxesSubplot:xlabel='sumSS_hr_bins'>"
      ]
     },
     "execution_count": 66,
     "metadata": {},
     "output_type": "execute_result"
    },
    {
     "data": {
      "image/png": "[encoded data removed]",
      "text/plain": [
       "<Figure size 432x288 with 1 Axes>"
      ]
     },
     "metadata": {
      "needs_background": "light"
     },
     "output_type": "display_data"
    }
   ],
   "source": [
    "cnt,bins=np.histogram(df.sumSS_hr, bins=6)\n",
    "cnt,bins\n",
    "\n",
    "df['sumSS_hr_bins']=pd.cut(x=df.sumSS_hr,bins=bins,\n",
    "                     labels=['1','2','3','4','5','6'],\n",
    "                     include_lowest=True)\n",
    "df.sumSS_hr_bins\n",
    "df.groupby(['sumSS_hr_bins'])['fire'].count().plot(kind='bar')"
   ]
  },
  {
   "cell_type": "code",
   "execution_count": 67,
   "metadata": {},
   "outputs": [
    {
     "data": {
      "text/plain": [
       "<AxesSubplot:xlabel='daySumSunRay_bins'>"
      ]
     },
     "execution_count": 67,
     "metadata": {},
     "output_type": "execute_result"
    },
    {
     "data": {
      "image/png": "[encoded data removed]",
      "text/plain": [
       "<Figure size 432x288 with 1 Axes>"
      ]
     },
     "metadata": {
      "needs_background": "light"
     },
     "output_type": "display_data"
    }
   ],
   "source": [
    "cnt,bins=np.histogram(df.daySumSunRay, bins=6)\n",
    "cnt,bins\n",
    "\n",
    "df['daySumSunRay_bins']=pd.cut(x=df.daySumSunRay,bins=bins,\n",
    "                     labels=['1','2','3','4','5','6'],\n",
    "                     include_lowest=True)\n",
    "df.daySumSunRay_bins\n",
    "df.groupby(['daySumSunRay_bins'])['fire'].count().plot(kind='bar')"
   ]
  },
  {
   "cell_type": "code",
   "execution_count": 68,
   "metadata": {},
   "outputs": [
    {
     "data": {
      "text/plain": [
       "<AxesSubplot:xlabel='dayAvgGroundT_bins'>"
      ]
     },
     "execution_count": 68,
     "metadata": {},
     "output_type": "execute_result"
    },
    {
     "data": {
      "image/png": "[encoded data removed]",
      "text/plain": [
       "<Figure size 432x288 with 1 Axes>"
      ]
     },
     "metadata": {
      "needs_background": "light"
     },
     "output_type": "display_data"
    }
   ],
   "source": [
    "cnt,bins=np.histogram(df.dayAvgGroundT, bins=6)\n",
    "cnt,bins\n",
    "\n",
    "df['dayAvgGroundT_bins']=pd.cut(x=df.dayAvgGroundT,bins=bins,\n",
    "                     labels=['1','2','3','4','5','6'],\n",
    "                     include_lowest=True)\n",
    "df.dayAvgGroundT_bins\n",
    "df.groupby(['dayAvgGroundT_bins'])['fire'].count().plot(kind='bar')"
   ]
  },
  {
   "cell_type": "code",
   "execution_count": 70,
   "metadata": {},
   "outputs": [
    {
     "data": {
      "text/plain": [
       "<AxesSubplot:xlabel='dayAvgGroundT_bins'>"
      ]
     },
     "execution_count": 70,
     "metadata": {},
     "output_type": "execute_result"
    },
    {
     "data": {
      "image/png": "[encoded data removed]",
      "text/plain": [
       "<Figure size 432x288 with 1 Axes>"
      ]
     },
     "metadata": {
      "needs_background": "light"
     },
     "output_type": "display_data"
    }
   ],
   "source": [
    "cnt,bins=np.histogram(df.dayAvgGroundT, bins=6)\n",
    "cnt,bins\n",
    "\n",
    "df['dayAvgGroundT_bins']=pd.cut(x=df.dayAvgGroundT,bins=bins,\n",
    "                     labels=['1','2','3','4','5','6'],\n",
    "                     include_lowest=True)\n",
    "df.dayAvgGroundT_bins\n",
    "df.groupby(['dayAvgGroundT_bins'])['fire'].count().plot(kind='bar')"
   ]
  },
  {
   "cell_type": "code",
   "execution_count": 188,
   "metadata": {},
   "outputs": [],
   "source": [
    "y_data = df[['fire']] #산불발생여부\n",
    "x_data = df.copy()  #그 외 모든 데이터\n",
    "x_data.drop(['fire','location','Date'], axis=1, inplace=True)"
   ]
  }
 ],
 "metadata": {
  "kernelspec": {
   "display_name": "Python 3.9.7 ('base')",
   "language": "python",
   "name": "python3"
  },
  "language_info": {
   "codemirror_mode": {
    "name": "ipython",
    "version": 3
   },
   "file_extension": ".py",
   "mimetype": "text/x-python",
   "name": "python",
   "nbconvert_exporter": "python",
   "pygments_lexer": "ipython3",
   "version": "3.9.7"
  },
  "orig_nbformat": 4,
  "vscode": {
   "interpreter": {
    "hash": "c1de356c01870b1905353d93fb5b08e9dac708fcd7a1cb7f129b78550db01998"
   }
  }
 },
 "nbformat": 4,
 "nbformat_minor": 2
}
