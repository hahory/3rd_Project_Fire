{
 "cells": [
  {
   "cell_type": "code",
   "execution_count": 7,
   "metadata": {},
   "outputs": [],
   "source": [
    "import pandas as pd\n",
    "#필요한 경우\n",
    "#import openpyxl"
   ]
  },
  {
   "cell_type": "code",
   "execution_count": 8,
   "metadata": {},
   "outputs": [],
   "source": [
    "df=pd.read_excel('(제공용) 요일별 유동인구 샘플자료_test.xlsx')\n",
    "#df\n",
    "df.columns=df.iloc[3] #컬럼명 바꾸기\n",
    "#df\n",
    "df=df.iloc[5:,1:] #필요없는 행, 열 제거\n",
    "#df.head()\n",
    "df['소지역코드']=df['소지역코드'].str[0:7] #소지역코드 앞 7자리만 남기기\n",
    "df.drop(['X좌표','Y좌표'], axis=1, inplace=True) #필요없는 열 제거\n",
    "df.reset_index(drop=True) #제거한 행들로 인해 인덱스 재정리\n",
    "#df.head()\n",
    "df['year_code']=df['기준년월'].map(str)+'_'+df['소지역코드'] #그룹화할 열(기준년월_소지역코드) 만들기\n",
    "df.columns\n",
    "df=df[['year_code','기준년월', '소지역코드', '월요일 유동인구', '화요일 유동인구', '수요일 유동인구', '목요일 유동인구',\n",
    "       '금요일 유동인구', '토요일 유동인구', '일요일 유동인구']]\n",
    "df.drop(['기준년월','소지역코드'], axis=1, inplace=True)"
   ]
  },
  {
   "cell_type": "code",
   "execution_count": 9,
   "metadata": {},
   "outputs": [
    {
     "data": {
      "text/html": [
       "<div>\n",
       "<style scoped>\n",
       "    .dataframe tbody tr th:only-of-type {\n",
       "        vertical-align: middle;\n",
       "    }\n",
       "\n",
       "    .dataframe tbody tr th {\n",
       "        vertical-align: top;\n",
       "    }\n",
       "\n",
       "    .dataframe thead th {\n",
       "        text-align: right;\n",
       "    }\n",
       "</style>\n",
       "<table border=\"1\" class=\"dataframe\">\n",
       "  <thead>\n",
       "    <tr style=\"text-align: right;\">\n",
       "      <th></th>\n",
       "      <th>year_code</th>\n",
       "      <th>월요일 유동인구</th>\n",
       "      <th>화요일 유동인구</th>\n",
       "      <th>수요일 유동인구</th>\n",
       "      <th>목요일 유동인구</th>\n",
       "      <th>금요일 유동인구</th>\n",
       "      <th>토요일 유동인구</th>\n",
       "      <th>일요일 유동인구</th>\n",
       "    </tr>\n",
       "  </thead>\n",
       "  <tbody>\n",
       "    <tr>\n",
       "      <th>0</th>\n",
       "      <td>202012_2332033</td>\n",
       "      <td>71.38</td>\n",
       "      <td>80.89</td>\n",
       "      <td>66.67</td>\n",
       "      <td>58.65</td>\n",
       "      <td>53.86</td>\n",
       "      <td>49.00</td>\n",
       "      <td>44.87</td>\n",
       "    </tr>\n",
       "    <tr>\n",
       "      <th>1</th>\n",
       "      <td>202112_2332033</td>\n",
       "      <td>112.13</td>\n",
       "      <td>126.25</td>\n",
       "      <td>113.34</td>\n",
       "      <td>103.24</td>\n",
       "      <td>98.43</td>\n",
       "      <td>78.08</td>\n",
       "      <td>67.56</td>\n",
       "    </tr>\n",
       "  </tbody>\n",
       "</table>\n",
       "</div>"
      ],
      "text/plain": [
       "        year_code  월요일 유동인구  화요일 유동인구  수요일 유동인구  목요일 유동인구  금요일 유동인구  토요일 유동인구  \\\n",
       "0  202012_2332033     71.38     80.89     66.67     58.65     53.86     49.00   \n",
       "1  202112_2332033    112.13    126.25    113.34    103.24     98.43     78.08   \n",
       "\n",
       "   일요일 유동인구  \n",
       "0     44.87  \n",
       "1     67.56  "
      ]
     },
     "execution_count": 9,
     "metadata": {},
     "output_type": "execute_result"
    }
   ],
   "source": [
    "df_group=df.groupby('year_code').sum()\n",
    "df_group.reset_index(inplace=True)\n",
    "df_group.to_csv('weekly_moving_test_0718.csv', index=False)\n",
    "df2=pd.read_csv('weekly_moving_test_0718.csv')\n",
    "df2"
   ]
  }
 ],
 "metadata": {
  "kernelspec": {
   "display_name": "Python 3.9.7 ('base')",
   "language": "python",
   "name": "python3"
  },
  "language_info": {
   "codemirror_mode": {
    "name": "ipython",
    "version": 3
   },
   "file_extension": ".py",
   "mimetype": "text/x-python",
   "name": "python",
   "nbconvert_exporter": "python",
   "pygments_lexer": "ipython3",
   "version": "3.9.7"
  },
  "orig_nbformat": 4,
  "vscode": {
   "interpreter": {
    "hash": "c1de356c01870b1905353d93fb5b08e9dac708fcd7a1cb7f129b78550db01998"
   }
  }
 },
 "nbformat": 4,
 "nbformat_minor": 2
}
