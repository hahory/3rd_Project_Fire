{
 "cells": [
  {
   "cell_type": "markdown",
   "metadata": {},
   "source": [
    "youtube 이수안 컴퓨터\n",
    "XGBoost, LightGBM"
   ]
  },
  {
   "cell_type": "code",
   "execution_count": 168,
   "metadata": {},
   "outputs": [],
   "source": [
    "import pandas as pd\n",
    "import numpy as np\n",
    "import seaborn as sns\n",
    "import matplotlib.pyplot as plt\n",
    "import matplotlib.font_manager as fm\n",
    "font_list=[font.name for font in fm.fontManager.ttflist]\n",
    "font_list\n",
    "plt.rcParams['font.family']='NanumGothic'\n"
   ]
  },
  {
   "cell_type": "code",
   "execution_count": 169,
   "metadata": {},
   "outputs": [],
   "source": [
    "df=pd.read_csv('revised_final_fire_weather_7yr.csv')"
   ]
  },
  {
   "cell_type": "code",
   "execution_count": 170,
   "metadata": {},
   "outputs": [
    {
     "data": {
      "text/html": [
       "<div>\n",
       "<style scoped>\n",
       "    .dataframe tbody tr th:only-of-type {\n",
       "        vertical-align: middle;\n",
       "    }\n",
       "\n",
       "    .dataframe tbody tr th {\n",
       "        vertical-align: top;\n",
       "    }\n",
       "\n",
       "    .dataframe thead th {\n",
       "        text-align: right;\n",
       "    }\n",
       "</style>\n",
       "<table border=\"1\" class=\"dataframe\">\n",
       "  <thead>\n",
       "    <tr style=\"text-align: right;\">\n",
       "      <th></th>\n",
       "      <th>산불발생여부</th>\n",
       "      <th>발생장소_시도</th>\n",
       "      <th>관측일</th>\n",
       "      <th>일최고기온</th>\n",
       "      <th>일평균현지기압</th>\n",
       "      <th>일최고현지기압</th>\n",
       "      <th>일최저현지기압</th>\n",
       "      <th>일평균해면기압</th>\n",
       "      <th>일최고해면기압</th>\n",
       "      <th>일최저해면기압</th>\n",
       "      <th>...</th>\n",
       "      <th>일평균풍속</th>\n",
       "      <th>일최대풍속</th>\n",
       "      <th>일최대풍속풍향</th>\n",
       "      <th>일최대순간풍속</th>\n",
       "      <th>일최대순간풍속풍향</th>\n",
       "      <th>풍정합</th>\n",
       "      <th>일강수량</th>\n",
       "      <th>일평균전운량</th>\n",
       "      <th>최다운량</th>\n",
       "      <th>일합계일사량</th>\n",
       "    </tr>\n",
       "  </thead>\n",
       "  <tbody>\n",
       "    <tr>\n",
       "      <th>0</th>\n",
       "      <td>0</td>\n",
       "      <td>강원</td>\n",
       "      <td>20140101</td>\n",
       "      <td>6.362</td>\n",
       "      <td>985.015</td>\n",
       "      <td>988.123</td>\n",
       "      <td>982.354</td>\n",
       "      <td>1012.215</td>\n",
       "      <td>1015.362</td>\n",
       "      <td>1009.331</td>\n",
       "      <td>...</td>\n",
       "      <td>3.985</td>\n",
       "      <td>7.831</td>\n",
       "      <td>237.692</td>\n",
       "      <td>14.585</td>\n",
       "      <td>256.923</td>\n",
       "      <td>3449.692</td>\n",
       "      <td>0.0</td>\n",
       "      <td>2.850</td>\n",
       "      <td>8.00</td>\n",
       "      <td>6.922</td>\n",
       "    </tr>\n",
       "    <tr>\n",
       "      <th>1</th>\n",
       "      <td>0</td>\n",
       "      <td>경북</td>\n",
       "      <td>20140101</td>\n",
       "      <td>8.686</td>\n",
       "      <td>998.207</td>\n",
       "      <td>1000.529</td>\n",
       "      <td>994.764</td>\n",
       "      <td>1013.293</td>\n",
       "      <td>1015.679</td>\n",
       "      <td>1009.800</td>\n",
       "      <td>...</td>\n",
       "      <td>3.557</td>\n",
       "      <td>7.436</td>\n",
       "      <td>276.429</td>\n",
       "      <td>13.836</td>\n",
       "      <td>277.857</td>\n",
       "      <td>3067.286</td>\n",
       "      <td>0.1</td>\n",
       "      <td>2.075</td>\n",
       "      <td>6.25</td>\n",
       "      <td>9.260</td>\n",
       "    </tr>\n",
       "    <tr>\n",
       "      <th>2</th>\n",
       "      <td>0</td>\n",
       "      <td>경북</td>\n",
       "      <td>20140102</td>\n",
       "      <td>8.664</td>\n",
       "      <td>1004.921</td>\n",
       "      <td>1006.907</td>\n",
       "      <td>1000.486</td>\n",
       "      <td>1020.286</td>\n",
       "      <td>1022.336</td>\n",
       "      <td>1015.629</td>\n",
       "      <td>...</td>\n",
       "      <td>2.300</td>\n",
       "      <td>5.436</td>\n",
       "      <td>262.857</td>\n",
       "      <td>9.036</td>\n",
       "      <td>288.571</td>\n",
       "      <td>1984.714</td>\n",
       "      <td>0.0</td>\n",
       "      <td>2.600</td>\n",
       "      <td>6.00</td>\n",
       "      <td>9.880</td>\n",
       "    </tr>\n",
       "    <tr>\n",
       "      <th>3</th>\n",
       "      <td>0</td>\n",
       "      <td>강원</td>\n",
       "      <td>20140102</td>\n",
       "      <td>6.285</td>\n",
       "      <td>992.546</td>\n",
       "      <td>994.338</td>\n",
       "      <td>988.092</td>\n",
       "      <td>1020.215</td>\n",
       "      <td>1022.254</td>\n",
       "      <td>1015.331</td>\n",
       "      <td>...</td>\n",
       "      <td>1.746</td>\n",
       "      <td>4.692</td>\n",
       "      <td>212.308</td>\n",
       "      <td>7.931</td>\n",
       "      <td>260.000</td>\n",
       "      <td>1521.385</td>\n",
       "      <td>0.0</td>\n",
       "      <td>0.167</td>\n",
       "      <td>1.50</td>\n",
       "      <td>8.726</td>\n",
       "    </tr>\n",
       "    <tr>\n",
       "      <th>4</th>\n",
       "      <td>0</td>\n",
       "      <td>강원</td>\n",
       "      <td>20140103</td>\n",
       "      <td>7.123</td>\n",
       "      <td>989.377</td>\n",
       "      <td>992.823</td>\n",
       "      <td>986.615</td>\n",
       "      <td>1016.862</td>\n",
       "      <td>1020.877</td>\n",
       "      <td>1013.477</td>\n",
       "      <td>...</td>\n",
       "      <td>1.700</td>\n",
       "      <td>4.631</td>\n",
       "      <td>219.231</td>\n",
       "      <td>7.546</td>\n",
       "      <td>240.000</td>\n",
       "      <td>1474.615</td>\n",
       "      <td>0.0</td>\n",
       "      <td>6.117</td>\n",
       "      <td>8.50</td>\n",
       "      <td>5.204</td>\n",
       "    </tr>\n",
       "  </tbody>\n",
       "</table>\n",
       "<p>5 rows × 25 columns</p>\n",
       "</div>"
      ],
      "text/plain": [
       "   산불발생여부 발생장소_시도       관측일  일최고기온   일평균현지기압   일최고현지기압   일최저현지기압   일평균해면기압  \\\n",
       "0       0      강원  20140101  6.362   985.015   988.123   982.354  1012.215   \n",
       "1       0      경북  20140101  8.686   998.207  1000.529   994.764  1013.293   \n",
       "2       0      경북  20140102  8.664  1004.921  1006.907  1000.486  1020.286   \n",
       "3       0      강원  20140102  6.285   992.546   994.338   988.092  1020.215   \n",
       "4       0      강원  20140103  7.123   989.377   992.823   986.615  1016.862   \n",
       "\n",
       "    일최고해면기압   일최저해면기압  ...  일평균풍속  일최대풍속  일최대풍속풍향  일최대순간풍속  일최대순간풍속풍향  \\\n",
       "0  1015.362  1009.331  ...  3.985  7.831  237.692   14.585    256.923   \n",
       "1  1015.679  1009.800  ...  3.557  7.436  276.429   13.836    277.857   \n",
       "2  1022.336  1015.629  ...  2.300  5.436  262.857    9.036    288.571   \n",
       "3  1022.254  1015.331  ...  1.746  4.692  212.308    7.931    260.000   \n",
       "4  1020.877  1013.477  ...  1.700  4.631  219.231    7.546    240.000   \n",
       "\n",
       "        풍정합  일강수량  일평균전운량  최다운량  일합계일사량  \n",
       "0  3449.692   0.0   2.850  8.00   6.922  \n",
       "1  3067.286   0.1   2.075  6.25   9.260  \n",
       "2  1984.714   0.0   2.600  6.00   9.880  \n",
       "3  1521.385   0.0   0.167  1.50   8.726  \n",
       "4  1474.615   0.0   6.117  8.50   5.204  \n",
       "\n",
       "[5 rows x 25 columns]"
      ]
     },
     "execution_count": 170,
     "metadata": {},
     "output_type": "execute_result"
    }
   ],
   "source": [
    "df.head()"
   ]
  },
  {
   "cell_type": "code",
   "execution_count": 171,
   "metadata": {},
   "outputs": [
    {
     "data": {
      "text/plain": [
       "Index(['산불발생여부', '발생장소_시도', '관측일', '일최고기온', '일평균현지기압', '일최고현지기압', '일최저현지기압',\n",
       "       '일평균해면기압', '일최고해면기압', '일최저해면기압', '일평균상대습도', '일최소상대습도', '일평균수증기압',\n",
       "       '일최고수증기압', '일최저수증기압', '일평균풍속', '일최대풍속', '일최대풍속풍향', '일최대순간풍속',\n",
       "       '일최대순간풍속풍향', '풍정합', '일강수량', '일평균전운량', '최다운량', '일합계일사량'],\n",
       "      dtype='object')"
      ]
     },
     "execution_count": 171,
     "metadata": {},
     "output_type": "execute_result"
    }
   ],
   "source": [
    "df.columns"
   ]
  },
  {
   "cell_type": "code",
   "execution_count": 172,
   "metadata": {},
   "outputs": [],
   "source": [
    "#시계열 그래프를 그리기 쉽도록 관측일을 날짜타입으로 변경\n",
    "df['관측일']=pd.to_datetime(df['관측일'],format='%Y%m%d')"
   ]
  },
  {
   "cell_type": "code",
   "execution_count": 173,
   "metadata": {},
   "outputs": [
    {
     "data": {
      "text/plain": [
       "0      2014-01-01\n",
       "1      2014-01-01\n",
       "2      2014-01-02\n",
       "3      2014-01-02\n",
       "4      2014-01-03\n",
       "          ...    \n",
       "5497   2020-12-29\n",
       "5498   2020-12-30\n",
       "5499   2020-12-30\n",
       "5500   2020-12-31\n",
       "5501   2020-12-31\n",
       "Name: 관측일, Length: 5502, dtype: datetime64[ns]"
      ]
     },
     "execution_count": 173,
     "metadata": {},
     "output_type": "execute_result"
    }
   ],
   "source": [
    "df['관측일']"
   ]
  },
  {
   "cell_type": "code",
   "execution_count": 174,
   "metadata": {},
   "outputs": [],
   "source": [
    "df_3_gangwon=df[(df.발생장소_시도=='강원')&(df.관측일.dt.month==3)]"
   ]
  },
  {
   "cell_type": "code",
   "execution_count": 175,
   "metadata": {},
   "outputs": [],
   "source": [
    "df_3_yearly_gangwon=df_3_gangwon.groupby(df['관측일'].dt.year).mean()\n",
    "df_3_yearly_gangwon.reset_index(inplace=True)"
   ]
  },
  {
   "cell_type": "code",
   "execution_count": 176,
   "metadata": {},
   "outputs": [
    {
     "data": {
      "image/png": "[encoded data removed]",
      "text/plain": [
       "<Figure size 432x288 with 1 Axes>"
      ]
     },
     "metadata": {
      "needs_background": "light"
     },
     "output_type": "display_data"
    }
   ],
   "source": [
    "ax=sns.lineplot(x='관측일', y='일최고기온', data=df_3_yearly_gangwon)"
   ]
  },
  {
   "cell_type": "code",
   "execution_count": 177,
   "metadata": {},
   "outputs": [],
   "source": [
    "df24=pd.read_csv('24yr.csv')"
   ]
  },
  {
   "cell_type": "code",
   "execution_count": 178,
   "metadata": {},
   "outputs": [
    {
     "data": {
      "text/html": [
       "<div>\n",
       "<style scoped>\n",
       "    .dataframe tbody tr th:only-of-type {\n",
       "        vertical-align: middle;\n",
       "    }\n",
       "\n",
       "    .dataframe tbody tr th {\n",
       "        vertical-align: top;\n",
       "    }\n",
       "\n",
       "    .dataframe thead th {\n",
       "        text-align: right;\n",
       "    }\n",
       "</style>\n",
       "<table border=\"1\" class=\"dataframe\">\n",
       "  <thead>\n",
       "    <tr style=\"text-align: right;\">\n",
       "      <th></th>\n",
       "      <th>평균풍향</th>\n",
       "      <th>최대풍향</th>\n",
       "      <th>피해면적</th>\n",
       "      <th>피해액</th>\n",
       "      <th>진화소요시간(분)</th>\n",
       "      <th>진화일시(년월일시분)</th>\n",
       "      <th>실효습도</th>\n",
       "      <th>최소습도</th>\n",
       "      <th>상대습도</th>\n",
       "      <th>발생세부원인</th>\n",
       "      <th>...</th>\n",
       "      <th>발생장소(시군구)</th>\n",
       "      <th>발생일시(요일)</th>\n",
       "      <th>소유구분</th>\n",
       "      <th>최종강우량</th>\n",
       "      <th>강우경과일수</th>\n",
       "      <th>산불위험지수(평균)</th>\n",
       "      <th>산불위험지수(최대)</th>\n",
       "      <th>평균기온</th>\n",
       "      <th>평균풍속</th>\n",
       "      <th>최대풍속</th>\n",
       "    </tr>\n",
       "  </thead>\n",
       "  <tbody>\n",
       "    <tr>\n",
       "      <th>0</th>\n",
       "      <td>SE</td>\n",
       "      <td>S</td>\n",
       "      <td>0.19</td>\n",
       "      <td>0</td>\n",
       "      <td>300.0</td>\n",
       "      <td>201406191800</td>\n",
       "      <td>0.0</td>\n",
       "      <td>0.0</td>\n",
       "      <td>57.0</td>\n",
       "      <td>쓰레기소각</td>\n",
       "      <td>...</td>\n",
       "      <td>인제</td>\n",
       "      <td>목</td>\n",
       "      <td>NaN</td>\n",
       "      <td>0.5</td>\n",
       "      <td>6</td>\n",
       "      <td>0.0</td>\n",
       "      <td>0.0</td>\n",
       "      <td>23.6</td>\n",
       "      <td>1.9</td>\n",
       "      <td>5.6</td>\n",
       "    </tr>\n",
       "    <tr>\n",
       "      <th>1</th>\n",
       "      <td>NNE</td>\n",
       "      <td>SE</td>\n",
       "      <td>0.08</td>\n",
       "      <td>0</td>\n",
       "      <td>210.0</td>\n",
       "      <td>201406182015</td>\n",
       "      <td>0.0</td>\n",
       "      <td>0.0</td>\n",
       "      <td>46.0</td>\n",
       "      <td>담뱃불실화 추정</td>\n",
       "      <td>...</td>\n",
       "      <td>밀양</td>\n",
       "      <td>수</td>\n",
       "      <td>NaN</td>\n",
       "      <td>1.5</td>\n",
       "      <td>6</td>\n",
       "      <td>0.0</td>\n",
       "      <td>0.0</td>\n",
       "      <td>29.6</td>\n",
       "      <td>2.4</td>\n",
       "      <td>4.0</td>\n",
       "    </tr>\n",
       "    <tr>\n",
       "      <th>2</th>\n",
       "      <td>NW</td>\n",
       "      <td>SSW</td>\n",
       "      <td>0.05</td>\n",
       "      <td>0</td>\n",
       "      <td>310.0</td>\n",
       "      <td>201406151720</td>\n",
       "      <td>0.0</td>\n",
       "      <td>0.0</td>\n",
       "      <td>57.0</td>\n",
       "      <td>도로공사(용접불티)비화</td>\n",
       "      <td>...</td>\n",
       "      <td>인제</td>\n",
       "      <td>일</td>\n",
       "      <td>NaN</td>\n",
       "      <td>0.5</td>\n",
       "      <td>2</td>\n",
       "      <td>0.0</td>\n",
       "      <td>0.0</td>\n",
       "      <td>29.3</td>\n",
       "      <td>1.3</td>\n",
       "      <td>6.7</td>\n",
       "    </tr>\n",
       "    <tr>\n",
       "      <th>3</th>\n",
       "      <td>WNW</td>\n",
       "      <td>W</td>\n",
       "      <td>0.03</td>\n",
       "      <td>0</td>\n",
       "      <td>140.0</td>\n",
       "      <td>201406141900</td>\n",
       "      <td>0.0</td>\n",
       "      <td>0.0</td>\n",
       "      <td>46.0</td>\n",
       "      <td>등산객실화 추정</td>\n",
       "      <td>...</td>\n",
       "      <td>부안</td>\n",
       "      <td>토</td>\n",
       "      <td>NaN</td>\n",
       "      <td>1.5</td>\n",
       "      <td>3</td>\n",
       "      <td>0.0</td>\n",
       "      <td>0.0</td>\n",
       "      <td>25.3</td>\n",
       "      <td>3.3</td>\n",
       "      <td>7.8</td>\n",
       "    </tr>\n",
       "    <tr>\n",
       "      <th>4</th>\n",
       "      <td>NNE</td>\n",
       "      <td>SSE</td>\n",
       "      <td>0.01</td>\n",
       "      <td>0</td>\n",
       "      <td>242.0</td>\n",
       "      <td>201406102000</td>\n",
       "      <td>0.0</td>\n",
       "      <td>0.0</td>\n",
       "      <td>40.0</td>\n",
       "      <td>낙뢰추정</td>\n",
       "      <td>...</td>\n",
       "      <td>원주</td>\n",
       "      <td>화</td>\n",
       "      <td>NaN</td>\n",
       "      <td>0.5</td>\n",
       "      <td>1</td>\n",
       "      <td>0.0</td>\n",
       "      <td>0.0</td>\n",
       "      <td>22.3</td>\n",
       "      <td>2.0</td>\n",
       "      <td>9.9</td>\n",
       "    </tr>\n",
       "  </tbody>\n",
       "</table>\n",
       "<p>5 rows × 26 columns</p>\n",
       "</div>"
      ],
      "text/plain": [
       "  평균풍향 최대풍향  피해면적  피해액  진화소요시간(분)   진화일시(년월일시분)  실효습도  최소습도  상대습도  \\\n",
       "0   SE    S  0.19    0      300.0  201406191800   0.0   0.0  57.0   \n",
       "1  NNE   SE  0.08    0      210.0  201406182015   0.0   0.0  46.0   \n",
       "2   NW  SSW  0.05    0      310.0  201406151720   0.0   0.0  57.0   \n",
       "3  WNW    W  0.03    0      140.0  201406141900   0.0   0.0  46.0   \n",
       "4  NNE  SSE  0.01    0      242.0  201406102000   0.0   0.0  40.0   \n",
       "\n",
       "         발생세부원인  ... 발생장소(시군구)  발생일시(요일) 소유구분 최종강우량 강우경과일수 산불위험지수(평균)  \\\n",
       "0         쓰레기소각  ...        인제         목  NaN   0.5      6        0.0   \n",
       "1      담뱃불실화 추정  ...        밀양         수  NaN   1.5      6        0.0   \n",
       "2  도로공사(용접불티)비화  ...        인제         일  NaN   0.5      2        0.0   \n",
       "3      등산객실화 추정  ...        부안         토  NaN   1.5      3        0.0   \n",
       "4          낙뢰추정  ...        원주         화  NaN   0.5      1        0.0   \n",
       "\n",
       "  산불위험지수(최대)  평균기온 평균풍속  최대풍속  \n",
       "0        0.0  23.6  1.9   5.6  \n",
       "1        0.0  29.6  2.4   4.0  \n",
       "2        0.0  29.3  1.3   6.7  \n",
       "3        0.0  25.3  3.3   7.8  \n",
       "4        0.0  22.3  2.0   9.9  \n",
       "\n",
       "[5 rows x 26 columns]"
      ]
     },
     "execution_count": 178,
     "metadata": {},
     "output_type": "execute_result"
    }
   ],
   "source": [
    "df24.head()"
   ]
  },
  {
   "cell_type": "code",
   "execution_count": 179,
   "metadata": {},
   "outputs": [
    {
     "data": {
      "text/plain": [
       "array(['강원', '경남', '전북', '충북', '경북', '서울', '대전', '경기', '광주', '전남', '부산',\n",
       "       '인천', '충남', '울산', '대구', '세종', '제주', '출북', '서부'], dtype=object)"
      ]
     },
     "execution_count": 179,
     "metadata": {},
     "output_type": "execute_result"
    }
   ],
   "source": [
    "df24['발생장소(시도)'].unique()"
   ]
  },
  {
   "cell_type": "code",
   "execution_count": 180,
   "metadata": {},
   "outputs": [
    {
     "data": {
      "text/plain": [
       "Index(['평균풍향', '최대풍향', '피해면적', '피해액', '진화소요시간(분)', '진화일시(년월일시분)', '실효습도',\n",
       "       '최소습도', '상대습도', '발생세부원인', '발생장소(시도)', '발생일시', '발생장소(읍면동)', '발생장소(관서)',\n",
       "       '발생장소(지번)', '발생장소(리)', '발생장소(시군구)', '발생일시(요일)', '소유구분', '최종강우량',\n",
       "       '강우경과일수', '산불위험지수(평균)', '산불위험지수(최대)', '평균기온', '평균풍속', '최대풍속'],\n",
       "      dtype='object')"
      ]
     },
     "execution_count": 180,
     "metadata": {},
     "output_type": "execute_result"
    }
   ],
   "source": [
    "df24.columns"
   ]
  },
  {
   "cell_type": "code",
   "execution_count": 181,
   "metadata": {},
   "outputs": [
    {
     "name": "stdout",
     "output_type": "stream",
     "text": [
      "<class 'pandas.core.frame.DataFrame'>\n",
      "RangeIndex: 9561 entries, 0 to 9560\n",
      "Data columns (total 26 columns):\n",
      " #   Column       Non-Null Count  Dtype  \n",
      "---  ------       --------------  -----  \n",
      " 0   평균풍향         9560 non-null   object \n",
      " 1   최대풍향         1322 non-null   object \n",
      " 2   피해면적         9561 non-null   float64\n",
      " 3   피해액          9561 non-null   int64  \n",
      " 4   진화소요시간(분)    9560 non-null   float64\n",
      " 5   진화일시(년월일시분)  9561 non-null   int64  \n",
      " 6   실효습도         9561 non-null   float64\n",
      " 7   최소습도         9561 non-null   float64\n",
      " 8   상대습도         9561 non-null   float64\n",
      " 9   발생세부원인       9561 non-null   object \n",
      " 10  발생장소(시도)     9561 non-null   object \n",
      " 11  발생일시         9561 non-null   int64  \n",
      " 12  발생장소(읍면동)    9561 non-null   object \n",
      " 13  발생장소(관서)     9523 non-null   object \n",
      " 14  발생장소(지번)     9514 non-null   object \n",
      " 15  발생장소(리)      7069 non-null   object \n",
      " 16  발생장소(시군구)    9561 non-null   object \n",
      " 17  발생일시(요일)     9561 non-null   object \n",
      " 18  소유구분         8842 non-null   object \n",
      " 19  최종강우량        9561 non-null   float64\n",
      " 20  강우경과일수       9561 non-null   int64  \n",
      " 21  산불위험지수(평균)   9561 non-null   float64\n",
      " 22  산불위험지수(최대)   9561 non-null   float64\n",
      " 23  평균기온         9561 non-null   float64\n",
      " 24  평균풍속         9561 non-null   float64\n",
      " 25  최대풍속         9561 non-null   float64\n",
      "dtypes: float64(11), int64(4), object(11)\n",
      "memory usage: 1.9+ MB\n"
     ]
    }
   ],
   "source": [
    "df24.info()"
   ]
  },
  {
   "cell_type": "code",
   "execution_count": 184,
   "metadata": {},
   "outputs": [],
   "source": [
    "df24['진화일시(년월일시분)']=df24['진화일시(년월일시분)'].astype('str')"
   ]
  },
  {
   "cell_type": "code",
   "execution_count": 185,
   "metadata": {},
   "outputs": [],
   "source": [
    "df24['진화일시(년월일시분)']=df24['진화일시(년월일시분)'].str[:8]"
   ]
  },
  {
   "cell_type": "code",
   "execution_count": 186,
   "metadata": {},
   "outputs": [
    {
     "data": {
      "text/plain": [
       "0       201406191\n",
       "1       201406182\n",
       "2       201406151\n",
       "3       201406141\n",
       "4       201406102\n",
       "          ...    \n",
       "9556    199101311\n",
       "9557    199101300\n",
       "9558    199101300\n",
       "9559    199101271\n",
       "9560    199101141\n",
       "Name: 진화일시(년월일시분), Length: 9561, dtype: object"
      ]
     },
     "execution_count": 186,
     "metadata": {},
     "output_type": "execute_result"
    }
   ],
   "source": [
    "df24['진화일시(년월일시분)']"
   ]
  },
  {
   "cell_type": "code",
   "execution_count": null,
   "metadata": {},
   "outputs": [],
   "source": [
    "df24['진화일시(년월일시분)']=df24['진화일시(년월일시분)'][:9]"
   ]
  },
  {
   "cell_type": "code",
   "execution_count": 160,
   "metadata": {},
   "outputs": [
    {
     "ename": "ValueError",
     "evalue": "'h' is a bad directive in format '%Y%m%d %h:%m'",
     "output_type": "error",
     "traceback": [
      "\u001b[1;31m---------------------------------------------------------------------------\u001b[0m",
      "\u001b[1;31mTypeError\u001b[0m                                 Traceback (most recent call last)",
      "\u001b[1;32mc:\\Anaconda3\\lib\\site-packages\\pandas\\core\\tools\\datetimes.py\u001b[0m in \u001b[0;36m_to_datetime_with_format\u001b[1;34m(arg, orig_arg, name, tz, fmt, exact, errors, infer_datetime_format)\u001b[0m\n\u001b[0;32m    508\u001b[0m         \u001b[1;32mtry\u001b[0m\u001b[1;33m:\u001b[0m\u001b[1;33m\u001b[0m\u001b[1;33m\u001b[0m\u001b[0m\n\u001b[1;32m--> 509\u001b[1;33m             \u001b[0mvalues\u001b[0m\u001b[1;33m,\u001b[0m \u001b[0mtz\u001b[0m \u001b[1;33m=\u001b[0m \u001b[0mconversion\u001b[0m\u001b[1;33m.\u001b[0m\u001b[0mdatetime_to_datetime64\u001b[0m\u001b[1;33m(\u001b[0m\u001b[0marg\u001b[0m\u001b[1;33m)\u001b[0m\u001b[1;33m\u001b[0m\u001b[1;33m\u001b[0m\u001b[0m\n\u001b[0m\u001b[0;32m    510\u001b[0m             \u001b[0mdta\u001b[0m \u001b[1;33m=\u001b[0m \u001b[0mDatetimeArray\u001b[0m\u001b[1;33m(\u001b[0m\u001b[0mvalues\u001b[0m\u001b[1;33m,\u001b[0m \u001b[0mdtype\u001b[0m\u001b[1;33m=\u001b[0m\u001b[0mtz_to_dtype\u001b[0m\u001b[1;33m(\u001b[0m\u001b[0mtz\u001b[0m\u001b[1;33m)\u001b[0m\u001b[1;33m)\u001b[0m\u001b[1;33m\u001b[0m\u001b[1;33m\u001b[0m\u001b[0m\n",
      "\u001b[1;32mc:\\Anaconda3\\lib\\site-packages\\pandas\\_libs\\tslibs\\conversion.pyx\u001b[0m in \u001b[0;36mpandas._libs.tslibs.conversion.datetime_to_datetime64\u001b[1;34m()\u001b[0m\n",
      "\u001b[1;31mTypeError\u001b[0m: Unrecognized value type: <class 'int'>",
      "\nDuring handling of the above exception, another exception occurred:\n",
      "\u001b[1;31mValueError\u001b[0m                                Traceback (most recent call last)",
      "\u001b[1;32m~\\AppData\\Local\\Temp/ipykernel_9152/1043123081.py\u001b[0m in \u001b[0;36m<module>\u001b[1;34m\u001b[0m\n\u001b[0;32m      1\u001b[0m \u001b[1;31m#시계열 그래프를 그리기 쉽도록 관측일을 날짜타입으로 변경\u001b[0m\u001b[1;33m\u001b[0m\u001b[1;33m\u001b[0m\u001b[0m\n\u001b[1;32m----> 2\u001b[1;33m \u001b[0mdf24\u001b[0m\u001b[1;33m[\u001b[0m\u001b[1;34m'진화일시(년월일시분)'\u001b[0m\u001b[1;33m]\u001b[0m\u001b[1;33m=\u001b[0m\u001b[0mpd\u001b[0m\u001b[1;33m.\u001b[0m\u001b[0mto_datetime\u001b[0m\u001b[1;33m(\u001b[0m\u001b[0mdf24\u001b[0m\u001b[1;33m[\u001b[0m\u001b[1;34m'진화일시(년월일시분)'\u001b[0m\u001b[1;33m]\u001b[0m\u001b[1;33m,\u001b[0m\u001b[0mformat\u001b[0m\u001b[1;33m=\u001b[0m\u001b[1;34m'%Y%m%d %h:%m'\u001b[0m\u001b[1;33m)\u001b[0m\u001b[1;33m\u001b[0m\u001b[1;33m\u001b[0m\u001b[0m\n\u001b[0m",
      "\u001b[1;32mc:\\Anaconda3\\lib\\site-packages\\pandas\\core\\tools\\datetimes.py\u001b[0m in \u001b[0;36mto_datetime\u001b[1;34m(arg, errors, dayfirst, yearfirst, utc, format, exact, unit, infer_datetime_format, origin, cache)\u001b[0m\n\u001b[0;32m    885\u001b[0m             \u001b[0mresult\u001b[0m \u001b[1;33m=\u001b[0m \u001b[0marg\u001b[0m\u001b[1;33m.\u001b[0m\u001b[0mmap\u001b[0m\u001b[1;33m(\u001b[0m\u001b[0mcache_array\u001b[0m\u001b[1;33m)\u001b[0m\u001b[1;33m\u001b[0m\u001b[1;33m\u001b[0m\u001b[0m\n\u001b[0;32m    886\u001b[0m         \u001b[1;32melse\u001b[0m\u001b[1;33m:\u001b[0m\u001b[1;33m\u001b[0m\u001b[1;33m\u001b[0m\u001b[0m\n\u001b[1;32m--> 887\u001b[1;33m             \u001b[0mvalues\u001b[0m \u001b[1;33m=\u001b[0m \u001b[0mconvert_listlike\u001b[0m\u001b[1;33m(\u001b[0m\u001b[0marg\u001b[0m\u001b[1;33m.\u001b[0m\u001b[0m_values\u001b[0m\u001b[1;33m,\u001b[0m \u001b[0mformat\u001b[0m\u001b[1;33m)\u001b[0m\u001b[1;33m\u001b[0m\u001b[1;33m\u001b[0m\u001b[0m\n\u001b[0m\u001b[0;32m    888\u001b[0m             \u001b[0mresult\u001b[0m \u001b[1;33m=\u001b[0m \u001b[0marg\u001b[0m\u001b[1;33m.\u001b[0m\u001b[0m_constructor\u001b[0m\u001b[1;33m(\u001b[0m\u001b[0mvalues\u001b[0m\u001b[1;33m,\u001b[0m \u001b[0mindex\u001b[0m\u001b[1;33m=\u001b[0m\u001b[0marg\u001b[0m\u001b[1;33m.\u001b[0m\u001b[0mindex\u001b[0m\u001b[1;33m,\u001b[0m \u001b[0mname\u001b[0m\u001b[1;33m=\u001b[0m\u001b[0marg\u001b[0m\u001b[1;33m.\u001b[0m\u001b[0mname\u001b[0m\u001b[1;33m)\u001b[0m\u001b[1;33m\u001b[0m\u001b[1;33m\u001b[0m\u001b[0m\n\u001b[0;32m    889\u001b[0m     \u001b[1;32melif\u001b[0m \u001b[0misinstance\u001b[0m\u001b[1;33m(\u001b[0m\u001b[0marg\u001b[0m\u001b[1;33m,\u001b[0m \u001b[1;33m(\u001b[0m\u001b[0mABCDataFrame\u001b[0m\u001b[1;33m,\u001b[0m \u001b[0mabc\u001b[0m\u001b[1;33m.\u001b[0m\u001b[0mMutableMapping\u001b[0m\u001b[1;33m)\u001b[0m\u001b[1;33m)\u001b[0m\u001b[1;33m:\u001b[0m\u001b[1;33m\u001b[0m\u001b[1;33m\u001b[0m\u001b[0m\n",
      "\u001b[1;32mc:\\Anaconda3\\lib\\site-packages\\pandas\\core\\tools\\datetimes.py\u001b[0m in \u001b[0;36m_convert_listlike_datetimes\u001b[1;34m(arg, format, name, tz, unit, errors, infer_datetime_format, dayfirst, yearfirst, exact)\u001b[0m\n\u001b[0;32m    391\u001b[0m \u001b[1;33m\u001b[0m\u001b[0m\n\u001b[0;32m    392\u001b[0m     \u001b[1;32mif\u001b[0m \u001b[0mformat\u001b[0m \u001b[1;32mis\u001b[0m \u001b[1;32mnot\u001b[0m \u001b[1;32mNone\u001b[0m\u001b[1;33m:\u001b[0m\u001b[1;33m\u001b[0m\u001b[1;33m\u001b[0m\u001b[0m\n\u001b[1;32m--> 393\u001b[1;33m         res = _to_datetime_with_format(\n\u001b[0m\u001b[0;32m    394\u001b[0m             \u001b[0marg\u001b[0m\u001b[1;33m,\u001b[0m \u001b[0morig_arg\u001b[0m\u001b[1;33m,\u001b[0m \u001b[0mname\u001b[0m\u001b[1;33m,\u001b[0m \u001b[0mtz\u001b[0m\u001b[1;33m,\u001b[0m \u001b[0mformat\u001b[0m\u001b[1;33m,\u001b[0m \u001b[0mexact\u001b[0m\u001b[1;33m,\u001b[0m \u001b[0merrors\u001b[0m\u001b[1;33m,\u001b[0m \u001b[0minfer_datetime_format\u001b[0m\u001b[1;33m\u001b[0m\u001b[1;33m\u001b[0m\u001b[0m\n\u001b[0;32m    395\u001b[0m         )\n",
      "\u001b[1;32mc:\\Anaconda3\\lib\\site-packages\\pandas\\core\\tools\\datetimes.py\u001b[0m in \u001b[0;36m_to_datetime_with_format\u001b[1;34m(arg, orig_arg, name, tz, fmt, exact, errors, infer_datetime_format)\u001b[0m\n\u001b[0;32m    511\u001b[0m             \u001b[1;32mreturn\u001b[0m \u001b[0mDatetimeIndex\u001b[0m\u001b[1;33m.\u001b[0m\u001b[0m_simple_new\u001b[0m\u001b[1;33m(\u001b[0m\u001b[0mdta\u001b[0m\u001b[1;33m,\u001b[0m \u001b[0mname\u001b[0m\u001b[1;33m=\u001b[0m\u001b[0mname\u001b[0m\u001b[1;33m)\u001b[0m\u001b[1;33m\u001b[0m\u001b[1;33m\u001b[0m\u001b[0m\n\u001b[0;32m    512\u001b[0m         \u001b[1;32mexcept\u001b[0m \u001b[1;33m(\u001b[0m\u001b[0mValueError\u001b[0m\u001b[1;33m,\u001b[0m \u001b[0mTypeError\u001b[0m\u001b[1;33m)\u001b[0m\u001b[1;33m:\u001b[0m\u001b[1;33m\u001b[0m\u001b[1;33m\u001b[0m\u001b[0m\n\u001b[1;32m--> 513\u001b[1;33m             \u001b[1;32mraise\u001b[0m \u001b[0merr\u001b[0m\u001b[1;33m\u001b[0m\u001b[1;33m\u001b[0m\u001b[0m\n\u001b[0m\u001b[0;32m    514\u001b[0m \u001b[1;33m\u001b[0m\u001b[0m\n\u001b[0;32m    515\u001b[0m \u001b[1;33m\u001b[0m\u001b[0m\n",
      "\u001b[1;32mc:\\Anaconda3\\lib\\site-packages\\pandas\\core\\tools\\datetimes.py\u001b[0m in \u001b[0;36m_to_datetime_with_format\u001b[1;34m(arg, orig_arg, name, tz, fmt, exact, errors, infer_datetime_format)\u001b[0m\n\u001b[0;32m    498\u001b[0m \u001b[1;33m\u001b[0m\u001b[0m\n\u001b[0;32m    499\u001b[0m         \u001b[1;31m# fallback\u001b[0m\u001b[1;33m\u001b[0m\u001b[1;33m\u001b[0m\u001b[0m\n\u001b[1;32m--> 500\u001b[1;33m         res = _array_strptime_with_fallback(\n\u001b[0m\u001b[0;32m    501\u001b[0m             \u001b[0marg\u001b[0m\u001b[1;33m,\u001b[0m \u001b[0mname\u001b[0m\u001b[1;33m,\u001b[0m \u001b[0mtz\u001b[0m\u001b[1;33m,\u001b[0m \u001b[0mfmt\u001b[0m\u001b[1;33m,\u001b[0m \u001b[0mexact\u001b[0m\u001b[1;33m,\u001b[0m \u001b[0merrors\u001b[0m\u001b[1;33m,\u001b[0m \u001b[0minfer_datetime_format\u001b[0m\u001b[1;33m\u001b[0m\u001b[1;33m\u001b[0m\u001b[0m\n\u001b[0;32m    502\u001b[0m         )\n",
      "\u001b[1;32mc:\\Anaconda3\\lib\\site-packages\\pandas\\core\\tools\\datetimes.py\u001b[0m in \u001b[0;36m_array_strptime_with_fallback\u001b[1;34m(arg, name, tz, fmt, exact, errors, infer_datetime_format)\u001b[0m\n\u001b[0;32m    434\u001b[0m \u001b[1;33m\u001b[0m\u001b[0m\n\u001b[0;32m    435\u001b[0m     \u001b[1;32mtry\u001b[0m\u001b[1;33m:\u001b[0m\u001b[1;33m\u001b[0m\u001b[1;33m\u001b[0m\u001b[0m\n\u001b[1;32m--> 436\u001b[1;33m         \u001b[0mresult\u001b[0m\u001b[1;33m,\u001b[0m \u001b[0mtimezones\u001b[0m \u001b[1;33m=\u001b[0m \u001b[0marray_strptime\u001b[0m\u001b[1;33m(\u001b[0m\u001b[0marg\u001b[0m\u001b[1;33m,\u001b[0m \u001b[0mfmt\u001b[0m\u001b[1;33m,\u001b[0m \u001b[0mexact\u001b[0m\u001b[1;33m=\u001b[0m\u001b[0mexact\u001b[0m\u001b[1;33m,\u001b[0m \u001b[0merrors\u001b[0m\u001b[1;33m=\u001b[0m\u001b[0merrors\u001b[0m\u001b[1;33m)\u001b[0m\u001b[1;33m\u001b[0m\u001b[1;33m\u001b[0m\u001b[0m\n\u001b[0m\u001b[0;32m    437\u001b[0m         \u001b[1;32mif\u001b[0m \u001b[1;34m\"%Z\"\u001b[0m \u001b[1;32min\u001b[0m \u001b[0mfmt\u001b[0m \u001b[1;32mor\u001b[0m \u001b[1;34m\"%z\"\u001b[0m \u001b[1;32min\u001b[0m \u001b[0mfmt\u001b[0m\u001b[1;33m:\u001b[0m\u001b[1;33m\u001b[0m\u001b[1;33m\u001b[0m\u001b[0m\n\u001b[0;32m    438\u001b[0m             \u001b[1;32mreturn\u001b[0m \u001b[0m_return_parsed_timezone_results\u001b[0m\u001b[1;33m(\u001b[0m\u001b[0mresult\u001b[0m\u001b[1;33m,\u001b[0m \u001b[0mtimezones\u001b[0m\u001b[1;33m,\u001b[0m \u001b[0mtz\u001b[0m\u001b[1;33m,\u001b[0m \u001b[0mname\u001b[0m\u001b[1;33m)\u001b[0m\u001b[1;33m\u001b[0m\u001b[1;33m\u001b[0m\u001b[0m\n",
      "\u001b[1;32mc:\\Anaconda3\\lib\\site-packages\\pandas\\_libs\\tslibs\\strptime.pyx\u001b[0m in \u001b[0;36mpandas._libs.tslibs.strptime.array_strptime\u001b[1;34m()\u001b[0m\n",
      "\u001b[1;32mc:\\Anaconda3\\lib\\site-packages\\pandas\\_libs\\tslibs\\strptime.pyx\u001b[0m in \u001b[0;36mpandas._libs.tslibs.strptime.array_strptime\u001b[1;34m()\u001b[0m\n",
      "\u001b[1;31mValueError\u001b[0m: 'h' is a bad directive in format '%Y%m%d %h:%m'"
     ]
    }
   ],
   "source": [
    "#시계열 그래프를 그리기 쉽도록 관측일을 날짜타입으로 변경\n",
    "df24['진화일시(년월일시분)']=pd.to_datetime(df24['진화일시(년월일시분)'],format='%Y%m%d %h:%m')"
   ]
  },
  {
   "cell_type": "code",
   "execution_count": 144,
   "metadata": {},
   "outputs": [
    {
     "data": {
      "text/plain": [
       "0      1970-01-01 00:03:21.406191800\n",
       "1      1970-01-01 00:03:21.406182015\n",
       "2      1970-01-01 00:03:21.406151720\n",
       "3      1970-01-01 00:03:21.406141900\n",
       "4      1970-01-01 00:03:21.406102000\n",
       "                    ...             \n",
       "9556   1970-01-01 00:03:19.101311235\n",
       "9557   1970-01-01 00:03:19.101300730\n",
       "9558   1970-01-01 00:03:19.101300000\n",
       "9559   1970-01-01 00:03:19.101271455\n",
       "9560   1970-01-01 00:03:19.101141455\n",
       "Name: 진화일시(년월일시분), Length: 9561, dtype: datetime64[ns]"
      ]
     },
     "execution_count": 144,
     "metadata": {},
     "output_type": "execute_result"
    }
   ],
   "source": [
    "df24['진화일시(년월일시분)']"
   ]
  },
  {
   "cell_type": "code",
   "execution_count": 125,
   "metadata": {},
   "outputs": [],
   "source": [
    "df24_3_gangwon=df24[(df24['발생장소(시도)']=='강원')&(df24['진화일시(년월일시분)'].dt.month==3)]"
   ]
  },
  {
   "cell_type": "code",
   "execution_count": 126,
   "metadata": {},
   "outputs": [],
   "source": [
    "df24_3_yearly_gangwon=df24_3_gangwon.groupby(df24['진화일시(년월일시분)'].dt.year).mean()\n",
    "df24_3_yearly_gangwon.reset_index(inplace=True)"
   ]
  },
  {
   "cell_type": "code",
   "execution_count": 128,
   "metadata": {},
   "outputs": [
    {
     "data": {
      "text/html": [
       "<div>\n",
       "<style scoped>\n",
       "    .dataframe tbody tr th:only-of-type {\n",
       "        vertical-align: middle;\n",
       "    }\n",
       "\n",
       "    .dataframe tbody tr th {\n",
       "        vertical-align: top;\n",
       "    }\n",
       "\n",
       "    .dataframe thead th {\n",
       "        text-align: right;\n",
       "    }\n",
       "</style>\n",
       "<table border=\"1\" class=\"dataframe\">\n",
       "  <thead>\n",
       "    <tr style=\"text-align: right;\">\n",
       "      <th></th>\n",
       "      <th>진화일시(년월일시분)</th>\n",
       "      <th>피해면적</th>\n",
       "      <th>피해액</th>\n",
       "      <th>진화소요시간(분)</th>\n",
       "      <th>실효습도</th>\n",
       "      <th>최소습도</th>\n",
       "      <th>상대습도</th>\n",
       "      <th>발생일시</th>\n",
       "      <th>최종강우량</th>\n",
       "      <th>강우경과일수</th>\n",
       "      <th>산불위험지수(평균)</th>\n",
       "      <th>산불위험지수(최대)</th>\n",
       "      <th>평균기온</th>\n",
       "      <th>평균풍속</th>\n",
       "      <th>최대풍속</th>\n",
       "    </tr>\n",
       "  </thead>\n",
       "  <tbody>\n",
       "  </tbody>\n",
       "</table>\n",
       "</div>"
      ],
      "text/plain": [
       "Empty DataFrame\n",
       "Columns: [진화일시(년월일시분), 피해면적, 피해액, 진화소요시간(분), 실효습도, 최소습도, 상대습도, 발생일시, 최종강우량, 강우경과일수, 산불위험지수(평균), 산불위험지수(최대), 평균기온, 평균풍속, 최대풍속]\n",
       "Index: []"
      ]
     },
     "execution_count": 128,
     "metadata": {},
     "output_type": "execute_result"
    }
   ],
   "source": [
    "df24_3_yearly_gangwon"
   ]
  },
  {
   "cell_type": "code",
   "execution_count": 127,
   "metadata": {},
   "outputs": [
    {
     "data": {
      "image/png": "[encoded data removed]",
      "text/plain": [
       "<Figure size 432x288 with 1 Axes>"
      ]
     },
     "metadata": {
      "needs_background": "light"
     },
     "output_type": "display_data"
    }
   ],
   "source": [
    "ax=sns.lineplot(x='진화일시(년월일시분)', y='평균기온', data=df24_3_yearly_gangwon)"
   ]
  },
  {
   "cell_type": "code",
   "execution_count": null,
   "metadata": {},
   "outputs": [],
   "source": []
  },
  {
   "cell_type": "code",
   "execution_count": 19,
   "metadata": {},
   "outputs": [
    {
     "name": "stderr",
     "output_type": "stream",
     "text": [
      "c:\\Anaconda3\\lib\\site-packages\\matplotlib\\backends\\backend_agg.py:240: RuntimeWarning: Glyph 8722 missing from current font.\n",
      "  font.set_text(s, 0.0, flags=flags)\n",
      "c:\\Anaconda3\\lib\\site-packages\\matplotlib\\backends\\backend_agg.py:203: RuntimeWarning: Glyph 8722 missing from current font.\n",
      "  font.set_text(s, 0, flags=flags)\n"
     ]
    },
    {
     "data": {
      "image/png": "[encoded data removed]",
      "text/plain": [
       "<Figure size 432x288 with 1 Axes>"
      ]
     },
     "metadata": {
      "needs_background": "light"
     },
     "output_type": "display_data"
    }
   ],
   "source": [
    "ax=sns.lineplot(x='관측일', y='일최고기온', data=df_plot)"
   ]
  },
  {
   "cell_type": "code",
   "execution_count": 30,
   "metadata": {},
   "outputs": [
    {
     "data": {
      "text/plain": [
       "(array([15706., 16071., 16436., 16801., 17167., 17532., 17897., 18262.,\n",
       "        18628.]),\n",
       " [Text(0, 0, ''),\n",
       "  Text(0, 0, ''),\n",
       "  Text(0, 0, ''),\n",
       "  Text(0, 0, ''),\n",
       "  Text(0, 0, ''),\n",
       "  Text(0, 0, ''),\n",
       "  Text(0, 0, ''),\n",
       "  Text(0, 0, ''),\n",
       "  Text(0, 0, '')])"
      ]
     },
     "execution_count": 30,
     "metadata": {},
     "output_type": "execute_result"
    },
    {
     "data": {
      "image/png": "[encoded data removed]",
      "text/plain": [
       "<Figure size 720x360 with 1 Axes>"
      ]
     },
     "metadata": {
      "needs_background": "light"
     },
     "output_type": "display_data"
    }
   ],
   "source": [
    "spot_ = '강원'\n",
    "d_ = df[(df[\"발생장소_시도\"]==spot_) & (df[\"관측일\"].dt.day)]\n",
    "plt.figure(figsize=(10,5))\n",
    "plt.title(\"3월 %s 지역 기온 추이\" % spot_, fontsize=15)\n",
    "plt.plot(d_[\"관측일\"], d_[\"일최고기온\"], \"-\", color='grey', label=str(spot_))\n",
    "plt.grid()\n",
    "plt.legend(fontsize=13)\n",
    "plt.xticks(rotation=90)"
   ]
  },
  {
   "cell_type": "code",
   "execution_count": 7,
   "metadata": {},
   "outputs": [],
   "source": [
    "#변수지정\n",
    "# x = df[['평균기온', '일최고기온', '일최고기온시각', '일최저기온',\n",
    "#        '일최저기온시각', '일평균현지기압', '일평균해면기압', '일최고해면기압', '일최고해면기압시각', '일최저해면기압',\n",
    "#        '일최저해면기압시각', '일평균상대습도', '일최소상대습도', '일최소상대습도시각', '일평균수증기압', '일최고수증기압',\n",
    "#        '일최고수증기압시각', '일최저수증기압', '일최저수증기압시각', '일평균풍속', '일최대풍속', '일최대풍속시각',\n",
    "#        '일최대풍속풍향', '일최대순간풍속', '일최대순간풍속시각', '일최대순간풍속풍향', '풍정합', '일평균전운량',\n",
    "#        '일평균중하층운량', '최다운량', '최다운량시각', '일합계일조시간', '일합계일사량', '일평균지면온도']]\n",
    "# x=df[['dayMaxT','dayMinT','dayAvgP','dayAvgPsea','dayMaxPsea','dayMinPsea',\n",
    "#       'dayAvgRhm','dayMinRhm','dayAvgWaterP','dayMaxWaterP','dayMinWaterP',\n",
    "#       'dayAvgWS','dayMaxWS','dayMaxWSWD','dayMaxInsWS','dayMaxInsWSWD','dayAvgCloud',\n",
    "#       'dayAvgMiddleLowCloud','daySumSunRay','dayAvgGroundT']]\n",
    "\n",
    "#모든 변수를 적용하여 변수중요도 그래프에서 상위 변수들로만 다시 적용(표기가 애매한 시각관련 변수도 제외)\n",
    "x=df[['일최고기온', '일평균현지기압', '일최고현지기압', '일최저현지기압',\n",
    "       '일평균해면기압', '일최고해면기압', '일최저해면기압', '일평균상대습도', '일최소상대습도', '일평균수증기압',\n",
    "       '일최고수증기압', '일최저수증기압', '일평균풍속', '일최대풍속', '일최대풍속풍향', '일최대순간풍속',\n",
    "       '일최대순간풍속풍향', '풍정합', '일강수량', '일평균전운량', '최다운량', '일합계일사량']]\n",
    "y = df[['산불발생여부']]"
   ]
  },
  {
   "cell_type": "code",
   "execution_count": 8,
   "metadata": {},
   "outputs": [
    {
     "name": "stdout",
     "output_type": "stream",
     "text": [
      "(4401, 22) (1101, 22)\n"
     ]
    }
   ],
   "source": [
    "# 전체 데이터셋을 학습용 80%, 테스트용 20%로 분할\n",
    "X_train, X_test, y_train, y_test=train_test_split(x,y,test_size=0.2,random_state=123)\n",
    "print(X_train.shape, X_test.shape)"
   ]
  },
  {
   "cell_type": "code",
   "execution_count": 9,
   "metadata": {},
   "outputs": [],
   "source": [
    "#파이썬 기반의 XGBoost가 가지고 있는 고유의 구조를 가지는 클래스를 가지고 있음\n",
    "dtrain=xgb.DMatrix(data=X_train, label=y_train)\n",
    "dtest=xgb.DMatrix(data=X_test, label=y_test)"
   ]
  },
  {
   "cell_type": "code",
   "execution_count": 10,
   "metadata": {},
   "outputs": [],
   "source": [
    "params={\n",
    "    # max_depth:최대 트리의 깊이(N이라고 가정하면 2^N개의 리프 노드가 생김), 일반적으로 Feature 수에 따라 3~6으로 세팅한 후 성능이 증가하고, 오버 피팅이 나지 않을 때까지 늘려나감(기본값 6)\n",
    "    #'max_depth':3, #F1-score:0.5924\n",
    "    #'max_depth':4, #F1-score:0.6394\n",
    "    #'max_depth':5, #F1-score:0.6422\n",
    "    'max_depth':6, #F1-score:0.6581\n",
    "\n",
    "    # eta: learning_rate, 낮은 값일수록 모델이 견고해지고 오버 피팅 방지에 좋음(일반적으로 0.01 ~ 0.3 정도로 설정, 기본값 0.3)\n",
    "    #'eta':0.1, #F1-score:0.6581\n",
    "    #'eta':0.2, #F1-score:0.6652\n",
    "    'eta':0.3, #F1-score:0.6752\n",
    "\n",
    "    # objective:목적함수,이항 분류(binary class)에는 대부분 binary:logistic만 사용\n",
    "    'objective':'binary:logistic',\n",
    "    'eval_metric':'logloss',\n",
    "    # early_stopping:오류가 더 이상 개선되지 않으면 수행을 중지\n",
    "    #'early_stopping':100 #F1-score:0.6752\n",
    "    'early_stopping':50 #F1-score:0.6752\n",
    "}\n",
    "\n",
    "# XGB의 경우 오류가 더 이상 개선되지 않으면 수행을 중지(early_stopping기능)\n",
    "# 예를 들면 n_estimators 를 200으로 설정하고, 조기 중단 파라미터 값을 50으로 설정하면, 1부터 200회까지 부스팅을 반복하다가\n",
    "# 50회를 반복하는 동안 학습오류가 감소하지 않으면 더 이상 부스팅을 진행하지 않고 종료합니다.\n",
    "# (가령 100회에서 학습오류 값이 0.8인데 101~150회 반복하는 동안 예측 오류가 0.8보다 작은 값이 하나도 없으면 부스팅을 종료)\n",
    "\n",
    "num_rounds=400 #F1-score:0.6752\n",
    "#num_rounds=800 #F1-score:0.6752\n",
    "#num_rounds=1200 #F1-score:0.6752\n",
    "#num_rounds가 영향을 안미치는 이유:early-stopping 때문\n",
    "\n",
    "#과적합 제어\n",
    "#-eta 값을 낮추기(0.01 ~ 0.1) → eta 값을 낮추면 num_boost_round(n_estimator)를 반대로 높여주어야 함.\n",
    "#-max_depth 값을 낮추기"
   ]
  },
  {
   "cell_type": "code",
   "execution_count": 11,
   "metadata": {},
   "outputs": [
    {
     "name": "stdout",
     "output_type": "stream",
     "text": [
      "[01:28:09] WARNING: /Users/runner/work/xgboost/xgboost/python-package/build/temp.macosx-10.9-x86_64-3.7/xgboost/src/learner.cc:627: \n",
      "Parameters: { \"early_stopping\" } might not be used.\n",
      "\n",
      "  This could be a false alarm, with some parameters getting used by language bindings but\n",
      "  then being mistakenly passed down to XGBoost core, or some parameter actually being used\n",
      "  but getting flagged wrongly here. Please open an issue if you find any such cases.\n",
      "\n",
      "\n",
      "[0]\ttrain-logloss:0.55058\teval-logloss:0.57131\n",
      "[1]\ttrain-logloss:0.46659\teval-logloss:0.50175\n",
      "[2]\ttrain-logloss:0.41252\teval-logloss:0.46110\n",
      "[3]\ttrain-logloss:0.37384\teval-logloss:0.43380\n",
      "[4]\ttrain-logloss:0.34756\teval-logloss:0.41729\n",
      "[5]\ttrain-logloss:0.32750\teval-logloss:0.40600\n",
      "[6]\ttrain-logloss:0.31061\teval-logloss:0.39965\n",
      "[7]\ttrain-logloss:0.30052\teval-logloss:0.39422\n",
      "[8]\ttrain-logloss:0.29193\teval-logloss:0.39135\n",
      "[9]\ttrain-logloss:0.28366\teval-logloss:0.38956\n",
      "[10]\ttrain-logloss:0.27642\teval-logloss:0.38743\n",
      "[11]\ttrain-logloss:0.27255\teval-logloss:0.38593\n",
      "[12]\ttrain-logloss:0.26792\teval-logloss:0.38419\n",
      "[13]\ttrain-logloss:0.26270\teval-logloss:0.38438\n",
      "[14]\ttrain-logloss:0.25584\teval-logloss:0.38188\n",
      "[15]\ttrain-logloss:0.25269\teval-logloss:0.38131\n",
      "[16]\ttrain-logloss:0.24849\teval-logloss:0.38007\n",
      "[17]\ttrain-logloss:0.23972\teval-logloss:0.38089\n",
      "[18]\ttrain-logloss:0.23522\teval-logloss:0.37960\n",
      "[19]\ttrain-logloss:0.23374\teval-logloss:0.37959\n",
      "[20]\ttrain-logloss:0.23140\teval-logloss:0.37923\n",
      "[21]\ttrain-logloss:0.22812\teval-logloss:0.37981\n",
      "[22]\ttrain-logloss:0.22647\teval-logloss:0.38104\n",
      "[23]\ttrain-logloss:0.22537\teval-logloss:0.38172\n",
      "[24]\ttrain-logloss:0.21679\teval-logloss:0.38051\n",
      "[25]\ttrain-logloss:0.21055\teval-logloss:0.37807\n",
      "[26]\ttrain-logloss:0.20686\teval-logloss:0.37800\n",
      "[27]\ttrain-logloss:0.20140\teval-logloss:0.37758\n",
      "[28]\ttrain-logloss:0.20044\teval-logloss:0.37793\n",
      "[29]\ttrain-logloss:0.19559\teval-logloss:0.37718\n",
      "[30]\ttrain-logloss:0.19032\teval-logloss:0.37501\n",
      "[31]\ttrain-logloss:0.18682\teval-logloss:0.37711\n",
      "[32]\ttrain-logloss:0.18318\teval-logloss:0.37735\n",
      "[33]\ttrain-logloss:0.18242\teval-logloss:0.37719\n",
      "[34]\ttrain-logloss:0.18077\teval-logloss:0.37660\n",
      "[35]\ttrain-logloss:0.17948\teval-logloss:0.37651\n",
      "[36]\ttrain-logloss:0.17618\teval-logloss:0.37696\n",
      "[37]\ttrain-logloss:0.17017\teval-logloss:0.37678\n",
      "[38]\ttrain-logloss:0.16562\teval-logloss:0.37583\n",
      "[39]\ttrain-logloss:0.16132\teval-logloss:0.37615\n",
      "[40]\ttrain-logloss:0.16073\teval-logloss:0.37741\n",
      "[41]\ttrain-logloss:0.15845\teval-logloss:0.37745\n",
      "[42]\ttrain-logloss:0.15223\teval-logloss:0.37586\n",
      "[43]\ttrain-logloss:0.14854\teval-logloss:0.37659\n",
      "[44]\ttrain-logloss:0.14766\teval-logloss:0.37550\n",
      "[45]\ttrain-logloss:0.14368\teval-logloss:0.37498\n",
      "[46]\ttrain-logloss:0.14108\teval-logloss:0.37389\n",
      "[47]\ttrain-logloss:0.14008\teval-logloss:0.37341\n",
      "[48]\ttrain-logloss:0.13853\teval-logloss:0.37333\n",
      "[49]\ttrain-logloss:0.13437\teval-logloss:0.37254\n",
      "[50]\ttrain-logloss:0.13190\teval-logloss:0.37271\n",
      "[51]\ttrain-logloss:0.13090\teval-logloss:0.37300\n",
      "[52]\ttrain-logloss:0.12834\teval-logloss:0.37360\n",
      "[53]\ttrain-logloss:0.12699\teval-logloss:0.37385\n",
      "[54]\ttrain-logloss:0.12383\teval-logloss:0.37346\n",
      "[55]\ttrain-logloss:0.12029\teval-logloss:0.37645\n",
      "[56]\ttrain-logloss:0.11768\teval-logloss:0.37551\n",
      "[57]\ttrain-logloss:0.11655\teval-logloss:0.37587\n",
      "[58]\ttrain-logloss:0.11495\teval-logloss:0.37504\n",
      "[59]\ttrain-logloss:0.11387\teval-logloss:0.37626\n",
      "[60]\ttrain-logloss:0.11280\teval-logloss:0.37657\n",
      "[61]\ttrain-logloss:0.11248\teval-logloss:0.37642\n",
      "[62]\ttrain-logloss:0.11172\teval-logloss:0.37655\n",
      "[63]\ttrain-logloss:0.11040\teval-logloss:0.37757\n",
      "[64]\ttrain-logloss:0.10984\teval-logloss:0.37821\n",
      "[65]\ttrain-logloss:0.10897\teval-logloss:0.37914\n",
      "[66]\ttrain-logloss:0.10678\teval-logloss:0.37925\n",
      "[67]\ttrain-logloss:0.10604\teval-logloss:0.37955\n",
      "[68]\ttrain-logloss:0.10455\teval-logloss:0.37937\n",
      "[69]\ttrain-logloss:0.10358\teval-logloss:0.38043\n",
      "[70]\ttrain-logloss:0.10255\teval-logloss:0.38128\n",
      "[71]\ttrain-logloss:0.09957\teval-logloss:0.38142\n",
      "[72]\ttrain-logloss:0.09891\teval-logloss:0.38210\n",
      "[73]\ttrain-logloss:0.09716\teval-logloss:0.38292\n",
      "[74]\ttrain-logloss:0.09422\teval-logloss:0.38571\n",
      "[75]\ttrain-logloss:0.09352\teval-logloss:0.38649\n",
      "[76]\ttrain-logloss:0.09121\teval-logloss:0.38817\n",
      "[77]\ttrain-logloss:0.09012\teval-logloss:0.38703\n",
      "[78]\ttrain-logloss:0.08944\teval-logloss:0.38771\n",
      "[79]\ttrain-logloss:0.08746\teval-logloss:0.38714\n",
      "[80]\ttrain-logloss:0.08525\teval-logloss:0.38727\n",
      "[81]\ttrain-logloss:0.08311\teval-logloss:0.38916\n",
      "[82]\ttrain-logloss:0.08230\teval-logloss:0.39056\n",
      "[83]\ttrain-logloss:0.08059\teval-logloss:0.39258\n",
      "[84]\ttrain-logloss:0.08000\teval-logloss:0.39254\n",
      "[85]\ttrain-logloss:0.07910\teval-logloss:0.39312\n",
      "[86]\ttrain-logloss:0.07739\teval-logloss:0.39434\n",
      "[87]\ttrain-logloss:0.07673\teval-logloss:0.39437\n",
      "[88]\ttrain-logloss:0.07485\teval-logloss:0.39264\n",
      "[89]\ttrain-logloss:0.07319\teval-logloss:0.39350\n",
      "[90]\ttrain-logloss:0.07235\teval-logloss:0.39403\n",
      "[91]\ttrain-logloss:0.07063\teval-logloss:0.39414\n",
      "[92]\ttrain-logloss:0.07014\teval-logloss:0.39462\n",
      "[93]\ttrain-logloss:0.06886\teval-logloss:0.39523\n",
      "[94]\ttrain-logloss:0.06691\teval-logloss:0.39501\n",
      "[95]\ttrain-logloss:0.06618\teval-logloss:0.39520\n",
      "[96]\ttrain-logloss:0.06561\teval-logloss:0.39556\n",
      "[97]\ttrain-logloss:0.06477\teval-logloss:0.39664\n",
      "[98]\ttrain-logloss:0.06355\teval-logloss:0.39787\n",
      "[99]\ttrain-logloss:0.06270\teval-logloss:0.39784\n",
      "[100]\ttrain-logloss:0.06245\teval-logloss:0.39856\n",
      "[101]\ttrain-logloss:0.06149\teval-logloss:0.39897\n",
      "[102]\ttrain-logloss:0.06126\teval-logloss:0.39893\n",
      "[103]\ttrain-logloss:0.06077\teval-logloss:0.39938\n",
      "[104]\ttrain-logloss:0.06037\teval-logloss:0.39988\n",
      "[105]\ttrain-logloss:0.06016\teval-logloss:0.40019\n",
      "[106]\ttrain-logloss:0.05981\teval-logloss:0.40020\n",
      "[107]\ttrain-logloss:0.05932\teval-logloss:0.40073\n",
      "[108]\ttrain-logloss:0.05819\teval-logloss:0.40108\n",
      "[109]\ttrain-logloss:0.05759\teval-logloss:0.40037\n",
      "[110]\ttrain-logloss:0.05737\teval-logloss:0.40132\n",
      "[111]\ttrain-logloss:0.05645\teval-logloss:0.39972\n",
      "[112]\ttrain-logloss:0.05606\teval-logloss:0.40114\n",
      "[113]\ttrain-logloss:0.05486\teval-logloss:0.40144\n",
      "[114]\ttrain-logloss:0.05339\teval-logloss:0.40177\n",
      "[115]\ttrain-logloss:0.05198\teval-logloss:0.40131\n",
      "[116]\ttrain-logloss:0.05147\teval-logloss:0.40180\n",
      "[117]\ttrain-logloss:0.05055\teval-logloss:0.40304\n",
      "[118]\ttrain-logloss:0.05016\teval-logloss:0.40305\n",
      "[119]\ttrain-logloss:0.04970\teval-logloss:0.40362\n",
      "[120]\ttrain-logloss:0.04878\teval-logloss:0.40257\n",
      "[121]\ttrain-logloss:0.04850\teval-logloss:0.40364\n",
      "[122]\ttrain-logloss:0.04755\teval-logloss:0.40420\n",
      "[123]\ttrain-logloss:0.04699\teval-logloss:0.40560\n",
      "[124]\ttrain-logloss:0.04640\teval-logloss:0.40726\n",
      "[125]\ttrain-logloss:0.04520\teval-logloss:0.40854\n",
      "[126]\ttrain-logloss:0.04448\teval-logloss:0.40889\n",
      "[127]\ttrain-logloss:0.04388\teval-logloss:0.40752\n",
      "[128]\ttrain-logloss:0.04305\teval-logloss:0.40864\n",
      "[129]\ttrain-logloss:0.04278\teval-logloss:0.40955\n",
      "[130]\ttrain-logloss:0.04216\teval-logloss:0.41082\n",
      "[131]\ttrain-logloss:0.04178\teval-logloss:0.41211\n",
      "[132]\ttrain-logloss:0.04120\teval-logloss:0.41343\n",
      "[133]\ttrain-logloss:0.04064\teval-logloss:0.41295\n",
      "[134]\ttrain-logloss:0.04045\teval-logloss:0.41434\n",
      "[135]\ttrain-logloss:0.03994\teval-logloss:0.41458\n",
      "[136]\ttrain-logloss:0.03964\teval-logloss:0.41553\n",
      "[137]\ttrain-logloss:0.03915\teval-logloss:0.41706\n",
      "[138]\ttrain-logloss:0.03889\teval-logloss:0.41663\n",
      "[139]\ttrain-logloss:0.03876\teval-logloss:0.41680\n",
      "[140]\ttrain-logloss:0.03855\teval-logloss:0.41679\n",
      "[141]\ttrain-logloss:0.03808\teval-logloss:0.41780\n",
      "[142]\ttrain-logloss:0.03762\teval-logloss:0.41854\n",
      "[143]\ttrain-logloss:0.03711\teval-logloss:0.41910\n",
      "[144]\ttrain-logloss:0.03633\teval-logloss:0.42047\n",
      "[145]\ttrain-logloss:0.03618\teval-logloss:0.41990\n",
      "[146]\ttrain-logloss:0.03567\teval-logloss:0.41996\n",
      "[147]\ttrain-logloss:0.03485\teval-logloss:0.41971\n",
      "[148]\ttrain-logloss:0.03466\teval-logloss:0.41992\n",
      "[149]\ttrain-logloss:0.03454\teval-logloss:0.42013\n"
     ]
    }
   ],
   "source": [
    "evals=[(dtrain,'train'),(dtest,'eval')]\n",
    "xgb_model=xgb.train(params=params, dtrain=dtrain, num_boost_round=num_rounds, \n",
    "                    early_stopping_rounds=100, evals=evals)"
   ]
  },
  {
   "cell_type": "code",
   "execution_count": 12,
   "metadata": {},
   "outputs": [
    {
     "data": {
      "text/plain": [
       "array([0.108, 0.582, 0.   , 0.028, 0.014, 0.563, 0.002, 0.97 , 0.006,\n",
       "       0.085], dtype=float32)"
      ]
     },
     "execution_count": 12,
     "metadata": {},
     "output_type": "execute_result"
    }
   ],
   "source": [
    "predicts=xgb_model.predict(dtest)\n",
    "np.round(predicts[:10],3)"
   ]
  },
  {
   "cell_type": "code",
   "execution_count": 13,
   "metadata": {},
   "outputs": [
    {
     "data": {
      "text/plain": [
       "[0, 1, 0, 0, 0, 1, 0, 1, 0, 0]"
      ]
     },
     "execution_count": 13,
     "metadata": {},
     "output_type": "execute_result"
    }
   ],
   "source": [
    "preds=[1 if x>0.5 else 0 for x in predicts]\n",
    "preds[:10]"
   ]
  },
  {
   "cell_type": "code",
   "execution_count": 14,
   "metadata": {},
   "outputs": [
    {
     "name": "stdout",
     "output_type": "stream",
     "text": [
      "정확도:0.849227974568574\n",
      "정밀도:0.751219512195122\n",
      "재현율:0.5724907063197026\n"
     ]
    }
   ],
   "source": [
    "#정확도(Accuracy) =  전체 데이터 중 예측이 참인 것의 비율((TP+TN)/(TP+TN+FP+FN)->이진 분류의 경우 데이터의 구성에 따라 모델 성능을 왜곡할 수 있기 때문에 정확도 수치 하나만 가지고 성능을 평가하지 않음\n",
    "#정밀도(precision score):예측이 참인 것 중에 실제도 참인 것의 비율(TP/TP+FP) \n",
    "#재현율(recall score):실제 참인 것 중에 예측도 참인 것의 비율(TP/TP+FP)\n",
    "print('정확도:{}'.format(accuracy_score(y_test,preds)))\n",
    "print('정밀도:{}'.format(precision_score(y_test,preds)))\n",
    "print('재현율:{}'.format(recall_score(y_test,preds)))"
   ]
  },
  {
   "cell_type": "code",
   "execution_count": 15,
   "metadata": {},
   "outputs": [
    {
     "data": {
      "text/plain": [
       "0.6497890295358649"
      ]
     },
     "execution_count": 15,
     "metadata": {},
     "output_type": "execute_result"
    }
   ],
   "source": [
    "#F1:precision 과 recall의 조화평균(2*(precision*recall)/(precision+recall))\n",
    "from sklearn.metrics import f1_score\n",
    "f1_score(y_test, preds)"
   ]
  },
  {
   "cell_type": "code",
   "execution_count": 16,
   "metadata": {},
   "outputs": [
    {
     "data": {
      "text/plain": [
       "<AxesSubplot:title={'center':'Feature importance'}, xlabel='F score', ylabel='Features'>"
      ]
     },
     "execution_count": 16,
     "metadata": {},
     "output_type": "execute_result"
    },
    {
     "name": "stderr",
     "output_type": "stream",
     "text": [
      "/Users/ejju/opt/anaconda3/lib/python3.9/site-packages/IPython/core/pylabtools.py:151: UserWarning: Glyph 51068 (\\N{HANGUL SYLLABLE IL}) missing from current font.\n",
      "  fig.canvas.print_figure(bytes_io, **kw)\n",
      "/Users/ejju/opt/anaconda3/lib/python3.9/site-packages/IPython/core/pylabtools.py:151: UserWarning: Glyph 44053 (\\N{HANGUL SYLLABLE GANG}) missing from current font.\n",
      "  fig.canvas.print_figure(bytes_io, **kw)\n",
      "/Users/ejju/opt/anaconda3/lib/python3.9/site-packages/IPython/core/pylabtools.py:151: UserWarning: Glyph 49688 (\\N{HANGUL SYLLABLE SU}) missing from current font.\n",
      "  fig.canvas.print_figure(bytes_io, **kw)\n",
      "/Users/ejju/opt/anaconda3/lib/python3.9/site-packages/IPython/core/pylabtools.py:151: UserWarning: Glyph 47049 (\\N{HANGUL SYLLABLE RYANG}) missing from current font.\n",
      "  fig.canvas.print_figure(bytes_io, **kw)\n",
      "/Users/ejju/opt/anaconda3/lib/python3.9/site-packages/IPython/core/pylabtools.py:151: UserWarning: Glyph 54217 (\\N{HANGUL SYLLABLE PYEONG}) missing from current font.\n",
      "  fig.canvas.print_figure(bytes_io, **kw)\n",
      "/Users/ejju/opt/anaconda3/lib/python3.9/site-packages/IPython/core/pylabtools.py:151: UserWarning: Glyph 44512 (\\N{HANGUL SYLLABLE GYUN}) missing from current font.\n",
      "  fig.canvas.print_figure(bytes_io, **kw)\n",
      "/Users/ejju/opt/anaconda3/lib/python3.9/site-packages/IPython/core/pylabtools.py:151: UserWarning: Glyph 54413 (\\N{HANGUL SYLLABLE PUNG}) missing from current font.\n",
      "  fig.canvas.print_figure(bytes_io, **kw)\n",
      "/Users/ejju/opt/anaconda3/lib/python3.9/site-packages/IPython/core/pylabtools.py:151: UserWarning: Glyph 49549 (\\N{HANGUL SYLLABLE SOG}) missing from current font.\n",
      "  fig.canvas.print_figure(bytes_io, **kw)\n",
      "/Users/ejju/opt/anaconda3/lib/python3.9/site-packages/IPython/core/pylabtools.py:151: UserWarning: Glyph 52572 (\\N{HANGUL SYLLABLE COE}) missing from current font.\n",
      "  fig.canvas.print_figure(bytes_io, **kw)\n",
      "/Users/ejju/opt/anaconda3/lib/python3.9/site-packages/IPython/core/pylabtools.py:151: UserWarning: Glyph 44256 (\\N{HANGUL SYLLABLE GO}) missing from current font.\n",
      "  fig.canvas.print_figure(bytes_io, **kw)\n",
      "/Users/ejju/opt/anaconda3/lib/python3.9/site-packages/IPython/core/pylabtools.py:151: UserWarning: Glyph 54788 (\\N{HANGUL SYLLABLE HYEON}) missing from current font.\n",
      "  fig.canvas.print_figure(bytes_io, **kw)\n",
      "/Users/ejju/opt/anaconda3/lib/python3.9/site-packages/IPython/core/pylabtools.py:151: UserWarning: Glyph 51648 (\\N{HANGUL SYLLABLE JI}) missing from current font.\n",
      "  fig.canvas.print_figure(bytes_io, **kw)\n",
      "/Users/ejju/opt/anaconda3/lib/python3.9/site-packages/IPython/core/pylabtools.py:151: UserWarning: Glyph 44592 (\\N{HANGUL SYLLABLE GI}) missing from current font.\n",
      "  fig.canvas.print_figure(bytes_io, **kw)\n",
      "/Users/ejju/opt/anaconda3/lib/python3.9/site-packages/IPython/core/pylabtools.py:151: UserWarning: Glyph 50517 (\\N{HANGUL SYLLABLE AB}) missing from current font.\n",
      "  fig.canvas.print_figure(bytes_io, **kw)\n",
      "/Users/ejju/opt/anaconda3/lib/python3.9/site-packages/IPython/core/pylabtools.py:151: UserWarning: Glyph 51613 (\\N{HANGUL SYLLABLE JEUNG}) missing from current font.\n",
      "  fig.canvas.print_figure(bytes_io, **kw)\n",
      "/Users/ejju/opt/anaconda3/lib/python3.9/site-packages/IPython/core/pylabtools.py:151: UserWarning: Glyph 51221 (\\N{HANGUL SYLLABLE JEONG}) missing from current font.\n",
      "  fig.canvas.print_figure(bytes_io, **kw)\n",
      "/Users/ejju/opt/anaconda3/lib/python3.9/site-packages/IPython/core/pylabtools.py:151: UserWarning: Glyph 54633 (\\N{HANGUL SYLLABLE HAB}) missing from current font.\n",
      "  fig.canvas.print_figure(bytes_io, **kw)\n",
      "/Users/ejju/opt/anaconda3/lib/python3.9/site-packages/IPython/core/pylabtools.py:151: UserWarning: Glyph 51200 (\\N{HANGUL SYLLABLE JEO}) missing from current font.\n",
      "  fig.canvas.print_figure(bytes_io, **kw)\n",
      "/Users/ejju/opt/anaconda3/lib/python3.9/site-packages/IPython/core/pylabtools.py:151: UserWarning: Glyph 54644 (\\N{HANGUL SYLLABLE HAE}) missing from current font.\n",
      "  fig.canvas.print_figure(bytes_io, **kw)\n",
      "/Users/ejju/opt/anaconda3/lib/python3.9/site-packages/IPython/core/pylabtools.py:151: UserWarning: Glyph 47732 (\\N{HANGUL SYLLABLE MYEON}) missing from current font.\n",
      "  fig.canvas.print_figure(bytes_io, **kw)\n",
      "/Users/ejju/opt/anaconda3/lib/python3.9/site-packages/IPython/core/pylabtools.py:151: UserWarning: Glyph 45796 (\\N{HANGUL SYLLABLE DA}) missing from current font.\n",
      "  fig.canvas.print_figure(bytes_io, **kw)\n",
      "/Users/ejju/opt/anaconda3/lib/python3.9/site-packages/IPython/core/pylabtools.py:151: UserWarning: Glyph 50868 (\\N{HANGUL SYLLABLE UN}) missing from current font.\n",
      "  fig.canvas.print_figure(bytes_io, **kw)\n",
      "/Users/ejju/opt/anaconda3/lib/python3.9/site-packages/IPython/core/pylabtools.py:151: UserWarning: Glyph 45824 (\\N{HANGUL SYLLABLE DAE}) missing from current font.\n",
      "  fig.canvas.print_figure(bytes_io, **kw)\n",
      "/Users/ejju/opt/anaconda3/lib/python3.9/site-packages/IPython/core/pylabtools.py:151: UserWarning: Glyph 49692 (\\N{HANGUL SYLLABLE SUN}) missing from current font.\n",
      "  fig.canvas.print_figure(bytes_io, **kw)\n",
      "/Users/ejju/opt/anaconda3/lib/python3.9/site-packages/IPython/core/pylabtools.py:151: UserWarning: Glyph 44036 (\\N{HANGUL SYLLABLE GAN}) missing from current font.\n",
      "  fig.canvas.print_figure(bytes_io, **kw)\n",
      "/Users/ejju/opt/anaconda3/lib/python3.9/site-packages/IPython/core/pylabtools.py:151: UserWarning: Glyph 54693 (\\N{HANGUL SYLLABLE HYANG}) missing from current font.\n",
      "  fig.canvas.print_figure(bytes_io, **kw)\n",
      "/Users/ejju/opt/anaconda3/lib/python3.9/site-packages/IPython/core/pylabtools.py:151: UserWarning: Glyph 49548 (\\N{HANGUL SYLLABLE SO}) missing from current font.\n",
      "  fig.canvas.print_figure(bytes_io, **kw)\n",
      "/Users/ejju/opt/anaconda3/lib/python3.9/site-packages/IPython/core/pylabtools.py:151: UserWarning: Glyph 49345 (\\N{HANGUL SYLLABLE SANG}) missing from current font.\n",
      "  fig.canvas.print_figure(bytes_io, **kw)\n",
      "/Users/ejju/opt/anaconda3/lib/python3.9/site-packages/IPython/core/pylabtools.py:151: UserWarning: Glyph 49845 (\\N{HANGUL SYLLABLE SEUB}) missing from current font.\n",
      "  fig.canvas.print_figure(bytes_io, **kw)\n",
      "/Users/ejju/opt/anaconda3/lib/python3.9/site-packages/IPython/core/pylabtools.py:151: UserWarning: Glyph 46020 (\\N{HANGUL SYLLABLE DO}) missing from current font.\n",
      "  fig.canvas.print_figure(bytes_io, **kw)\n",
      "/Users/ejju/opt/anaconda3/lib/python3.9/site-packages/IPython/core/pylabtools.py:151: UserWarning: Glyph 51204 (\\N{HANGUL SYLLABLE JEON}) missing from current font.\n",
      "  fig.canvas.print_figure(bytes_io, **kw)\n",
      "/Users/ejju/opt/anaconda3/lib/python3.9/site-packages/IPython/core/pylabtools.py:151: UserWarning: Glyph 50728 (\\N{HANGUL SYLLABLE ON}) missing from current font.\n",
      "  fig.canvas.print_figure(bytes_io, **kw)\n",
      "/Users/ejju/opt/anaconda3/lib/python3.9/site-packages/IPython/core/pylabtools.py:151: UserWarning: Glyph 44228 (\\N{HANGUL SYLLABLE GYE}) missing from current font.\n",
      "  fig.canvas.print_figure(bytes_io, **kw)\n",
      "/Users/ejju/opt/anaconda3/lib/python3.9/site-packages/IPython/core/pylabtools.py:151: UserWarning: Glyph 49324 (\\N{HANGUL SYLLABLE SA}) missing from current font.\n",
      "  fig.canvas.print_figure(bytes_io, **kw)\n"
     ]
    },
    {
     "data": {
      "image/png": "[encoded data removed]",
      "text/plain": [
       "<Figure size 720x1440 with 1 Axes>"
      ]
     },
     "metadata": {
      "needs_background": "light"
     },
     "output_type": "display_data"
    }
   ],
   "source": [
    "fig, ax=plt.subplots(figsize=(10,20))\n",
    "plot_importance(xgb_model,ax=ax)"
   ]
  }
 ],
 "metadata": {
  "kernelspec": {
   "display_name": "Python 3.9.7 ('base')",
   "language": "python",
   "name": "python3"
  },
  "language_info": {
   "codemirror_mode": {
    "name": "ipython",
    "version": 3
   },
   "file_extension": ".py",
   "mimetype": "text/x-python",
   "name": "python",
   "nbconvert_exporter": "python",
   "pygments_lexer": "ipython3",
   "version": "3.9.7"
  },
  "orig_nbformat": 4,
  "vscode": {
   "interpreter": {
    "hash": "e4cce46d6be9934fbd27f9ca0432556941ea5bdf741d4f4d64c6cd7f8dfa8fba"
   }
  }
 },
 "nbformat": 4,
 "nbformat_minor": 2
}
